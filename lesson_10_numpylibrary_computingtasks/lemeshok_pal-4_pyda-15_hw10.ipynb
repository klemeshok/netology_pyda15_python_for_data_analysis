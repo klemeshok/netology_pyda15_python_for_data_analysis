{
 "cells": [
  {
   "cell_type": "markdown",
   "metadata": {},
   "source": [
    "<div style=\"text-align: center\"> <H2> Домашнее задание №10, к лекции \"Библиотека numpy. Вычислительные задачи\" </H2></div>\n",
    "<div style='text-align: center'> <H4> по курсу PYDA-15 - Python для анализа данных </H4></div>\n",
    "</div>\n",
    "<p>\n",
    "<div style=\"text-align: right\"> Выполнил: студент группы PAL-4 Константин Лемешок </div>\n",
    "\n",
    "---"
   ]
  },
  {
   "cell_type": "code",
   "execution_count": null,
   "metadata": {},
   "outputs": [],
   "source": [
    "import numpy as np"
   ]
  },
  {
   "cell_type": "markdown",
   "metadata": {},
   "source": [
    "#### Задание 1\n",
    "<div class=\"alert alert-block alert-success\">\n",
    "Создайте numpy array с элементами от числа N до 0 (например, для N = 10 это будет array([9, 8, 7, 6, 5, 4, 3, 2, 1, 0])).\n",
    "\n",
    "</div>\n",
    "\n",
    "---"
   ]
  },
  {
   "cell_type": "markdown",
   "metadata": {},
   "source": [
    "Вариант 1:"
   ]
  },
  {
   "cell_type": "code",
   "execution_count": null,
   "metadata": {},
   "outputs": [],
   "source": [
    "N=int(input('Введите натуральное число: '))\n",
    "x = np.arange(N-1, -1, -1)\n",
    "x"
   ]
  },
  {
   "cell_type": "markdown",
   "metadata": {},
   "source": [
    "Вариант 2:"
   ]
  },
  {
   "cell_type": "code",
   "execution_count": null,
   "metadata": {},
   "outputs": [],
   "source": [
    "N=int(input('Введите натуральное число: '))\n",
    "x = np.flip(np.arange(0, N))\n",
    "x"
   ]
  },
  {
   "cell_type": "markdown",
   "metadata": {},
   "source": [
    "---"
   ]
  },
  {
   "cell_type": "markdown",
   "metadata": {},
   "source": [
    "#### Задание 2\n",
    "<div class=\"alert alert-block alert-success\">\n",
    "Создайте диагональную матрицу с элементами от N до 0. Посчитайте сумму ее значений на диагонали.\n",
    "\n",
    "</div>\n",
    "\n",
    "---"
   ]
  },
  {
   "cell_type": "code",
   "execution_count": null,
   "metadata": {},
   "outputs": [],
   "source": [
    "N=int(input('Введите натуральное число: '))\n",
    "M = np.diag(np.arange(N, -1, -1))\n",
    "print(M)\n",
    "print(f'Сумма значений по диагонали: {M.sum()}')"
   ]
  },
  {
   "cell_type": "markdown",
   "metadata": {},
   "source": [
    "---"
   ]
  },
  {
   "cell_type": "markdown",
   "metadata": {},
   "source": [
    "#### Задание 3\n",
    "<div class=\"alert alert-block alert-success\">\n",
    "Решите систему уравнений:\n",
    "    \n",
    "    4x + 2y + z = 4\n",
    "    x + 3y = 12\n",
    "    5y + 4z = -3\n",
    "\n",
    "</div>\n",
    "\n",
    "---"
   ]
  },
  {
   "cell_type": "code",
   "execution_count": null,
   "metadata": {},
   "outputs": [],
   "source": [
    "a = np.array( [ [4, 2, 1], [1, 3, 0], [0, 5, 4] ] )\n",
    "b = np.array([4, 12, -3])\n",
    "\n",
    "from numpy import linalg\n",
    "c = linalg.solve(a, b)\n",
    "print(f'x={c[0]}, y={c[1]}, z={c[2]}')"
   ]
  },
  {
   "cell_type": "markdown",
   "metadata": {},
   "source": [
    "---"
   ]
  },
  {
   "cell_type": "markdown",
   "metadata": {},
   "source": [
    "#### Задание 4\n",
    "<div class=\"alert alert-block alert-success\">\n",
    "Имеется матрица покупок в интернет-магазине в виде numpy array, столбцы которой - количество покупок категорий товаров различными пользователями, а каждая строка - покупки товаров различных категорий одного пользователя:\n",
    "    \n",
    "    users_stats = np.array(\n",
    "    [\n",
    "        [2, 1, 0, 0, 0, 0],\n",
    "        [1, 1, 2, 1, 0, 0],\n",
    "        [2, 0, 1, 0, 0, 0],\n",
    "        [1, 1, 2, 1, 0, 1],\n",
    "        [0, 0, 1, 2, 0, 0],\n",
    "        [0, 0, 0, 0, 0, 5],\n",
    "        [1, 0, 0, 0, 0, 0],\n",
    "        [0, 1, 1, 0, 0, 0],\n",
    "        [0, 0, 0, 1, 1, 3],\n",
    "        [1, 0, 0, 2, 1, 4]\n",
    "    ], \n",
    "    np.int32\n",
    "    )\n",
    "\n",
    "На сайт заходит очередной посетитель, о покупках которого известно следующее:\n",
    "    \n",
    "    next_user_stats = np.array([0, 1, 2, 0, 0, 0])\n",
    "    \n",
    "Найдите самого похожего пользователя. Т. е. посчитайте косинусное сходство между этим пользователем и всеми пользователями из массива user_stats.\n",
    "\n",
    "</div>\n",
    "\n",
    "---"
   ]
  },
  {
   "cell_type": "code",
   "execution_count": null,
   "metadata": {},
   "outputs": [],
   "source": [
    "def cosine( a, b ):\n",
    "    \"\"\"\n",
    "    Подсчет косинуса угла между векторами a, b по их координатам\n",
    "    \"\"\"\n",
    "    aLength = np.sqrt( (a*a).sum() )\n",
    "    bLength = np.sqrt( (b*b).sum() )\n",
    "    return np.dot( a, b ) / ( aLength * bLength )"
   ]
  },
  {
   "cell_type": "code",
   "execution_count": null,
   "metadata": {},
   "outputs": [],
   "source": [
    "users_stats = np.array(\n",
    "    [\n",
    "        [2, 1, 0, 0, 0, 0],\n",
    "        [1, 1, 2, 1, 0, 0],\n",
    "        [2, 0, 1, 0, 0, 0],\n",
    "        [1, 1, 2, 1, 0, 1],\n",
    "        [0, 0, 1, 2, 0, 0],\n",
    "        [0, 0, 0, 0, 0, 5],\n",
    "        [1, 0, 0, 0, 0, 0],\n",
    "        [0, 1, 1, 0, 0, 0],\n",
    "        [0, 0, 0, 1, 1, 3],\n",
    "        [1, 0, 0, 2, 1, 4]\n",
    "    ], \n",
    "    np.int32\n",
    ")\n",
    "next_user_stats = np.array([0, 1, 2, 0, 0, 0])"
   ]
  },
  {
   "cell_type": "code",
   "execution_count": null,
   "metadata": {},
   "outputs": [],
   "source": [
    "# Создаем и наполняем словарь, где ключи - номера пользователей из user_stats, а значения -\n",
    "# косинусное сходство каждого из них с последним пользователем (next_user_stats)\n",
    "likeness_with_next_user_stats = {}\n",
    "i = 0\n",
    "for current_user_stats in users_stats:\n",
    "    i += 1\n",
    "    likeness_with_next_user_stats[i] = cosine(current_user_stats, next_user_stats)\n",
    "\n",
    "# Определяем наиболее похожего пользователя (максимальное значение в словаре)\n",
    "maxvalue = 0\n",
    "for key, value in likeness_with_next_user_stats.items():\n",
    "    if value > maxvalue:\n",
    "        maxkey = key\n",
    "        maxvalue = value\n",
    "\n",
    "# Выводим результаты\n",
    "print('Косинусное сходство между 11-м пользователем и каждым из предыдущих 10 составляет:', end ='\\n\\n')\n",
    "for key, value in likeness_with_next_user_stats.items():\n",
    "    print(f'Пользователь {key}: {value}')\n",
    "print()\n",
    "print(f'Обнаружено наибольшее сходство {maxvalue} последнего пользователя с пользователем {maxkey}.')"
   ]
  },
  {
   "cell_type": "markdown",
   "metadata": {},
   "source": [
    "---"
   ]
  }
 ],
 "metadata": {
  "kernelspec": {
   "display_name": "Python 3",
   "language": "python",
   "name": "python3"
  },
  "language_info": {
   "codemirror_mode": {
    "name": "ipython",
    "version": 3
   },
   "file_extension": ".py",
   "mimetype": "text/x-python",
   "name": "python",
   "nbconvert_exporter": "python",
   "pygments_lexer": "ipython3",
   "version": "3.8.5"
  }
 },
 "nbformat": 4,
 "nbformat_minor": 4
}
