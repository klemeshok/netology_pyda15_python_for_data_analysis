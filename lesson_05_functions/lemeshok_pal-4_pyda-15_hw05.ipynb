{
 "cells": [
  {
   "cell_type": "markdown",
   "metadata": {},
   "source": [
    "<div style=\"text-align: center\"> <H2> Домашнее задание №5, к лекции \"Функции\" </H2></div>\n",
    "<div style='text-align: center'> <H4> по курсу PYDA-15 - Python для анализа данных </H4></div>\n",
    "</div>\n",
    "<p>\n",
    "<div style=\"text-align: right\"> Выполнил: студент группы PAL-4 Константин Лемешок </div>\n",
    "\n",
    "---"
   ]
  },
  {
   "cell_type": "markdown",
   "metadata": {},
   "source": [
    "Вам нужно помочь секретарю автоматизировать работу. Для этого нужно написать программу, которая будет на основе хранимых данных исполнять пользовательские команды.\n",
    "\n",
    "Исходные данные имеют следующую структуру:\n",
    "1. documents - перечень всех документов\n",
    "2. directories - перечень полок, на которых хранятся документы (если документ есть в documents, то он обязательно должен быть и в directories)\n",
    "\n",
    "Общие требования к программе:\n",
    "- код должен быть грамотно декомпозирован (каждая функция отвечает за свою конкретную задачу, дублирующийся функционал переиспользуется, а его код не повторяется);\n",
    "- в коде отсутствуют глобальные переменные (за исключением **documents** и **directories**);\n",
    "- пользовательский ввод обрабатывается в цикле **while** до тех пор, пока пользователь явно не завершит программу (вводом команды \"**q**\")."
   ]
  },
  {
   "cell_type": "markdown",
   "metadata": {},
   "source": [
    "---"
   ]
  },
  {
   "cell_type": "code",
   "execution_count": 1,
   "metadata": {},
   "outputs": [],
   "source": [
    "documents = [\n",
    "    {'type': 'passport', 'number': '2207 876234', 'name': 'Василий Гупкин'},\n",
    "    {'type': 'invoice', 'number': '11-2', 'name': 'Геннадий Покемонов'},\n",
    "    {'type': 'insurance', 'number': '10006', 'name': 'Аристарх Павлов'}\n",
    "]\n",
    "directories = {\n",
    "    '1': ['2207 876234', '11-2'],\n",
    "    '2': ['10006'],\n",
    "    '3': []\n",
    "}"
   ]
  },
  {
   "cell_type": "markdown",
   "metadata": {},
   "source": [
    "**Комментарий преподавателя к Домашнему заданию:**\n",
    "\n",
    "Спасибо за отличную работу, функционально все выполнено верно, декомпозиция кода так же хорошая. Замечательно, что предусмотрели ряд потенциально проблемных кейсов пользовательского ввода и взялись за доп. задания :)\n",
    "\n",
    "Еще можно было связать команды и функции при помощи словаря, чтобы не создавать большие блоки условий. Ключами в словаре могут быть команды, а значениями - названия функций (именно названия, без вызова, т.е. без круглых скобок). При обращении к ключу функция будет вызываться, такой вариант более лаконичен."
   ]
  },
  {
   "cell_type": "markdown",
   "metadata": {},
   "source": [
    "---"
   ]
  },
  {
   "cell_type": "markdown",
   "metadata": {},
   "source": [
    "### Задание 1"
   ]
  },
  {
   "cell_type": "markdown",
   "metadata": {},
   "source": [
    "<div class=\"alert alert-block alert-success\">\n",
    "    <b>Пункт 1.</b> Пользователь по команде \"<b>p</b>\" может узнать владельца документа по его номеру.\n",
    "    \n",
    "</div>\n",
    "\n",
    "---"
   ]
  },
  {
   "cell_type": "code",
   "execution_count": 2,
   "metadata": {},
   "outputs": [
    {
     "name": "stdout",
     "output_type": "stream",
     "text": [
      "Введите номер документа: we\n",
      "Документ не найден в базе.\n"
     ]
    }
   ],
   "source": [
    "def doc_name_by_number():\n",
    "    '''\n",
    "    Функция запрашивает номер документа и выводит имя его владельца.\n",
    "    '''\n",
    "    num = input('Введите номер документа: ')\n",
    "    if num not in sum(list(directories.values()), []):\n",
    "        print('Документ не найден в базе.')\n",
    "    else:\n",
    "        for dictionary in documents:\n",
    "            if dictionary['number'] == num:\n",
    "                print(f'Владелец документа: {dictionary[\"name\"]}.')\n",
    "                break\n",
    "\n",
    "doc_name_by_number()"
   ]
  },
  {
   "cell_type": "markdown",
   "metadata": {},
   "source": [
    "<div class=\"alert alert-block alert-success\">\n",
    "    <b>Пункт 2.</b> Пользователь по команде \"<b>s</b>\" может по номеру документа узнать, на какой полке он хранится.\n",
    "    \n",
    "</div>\n",
    "\n",
    "---"
   ]
  },
  {
   "cell_type": "code",
   "execution_count": 3,
   "metadata": {},
   "outputs": [
    {
     "name": "stdout",
     "output_type": "stream",
     "text": [
      "Введите номер документа: we\n",
      "Документ не найден в базе.\n"
     ]
    }
   ],
   "source": [
    "def shelf_num_by_docnumber():\n",
    "    '''\n",
    "    Функция запрашивает номер документа и выводит номер полки, на которой он хранится.\n",
    "    '''\n",
    "    num = input('Введите номер документа: ')\n",
    "    if num not in sum(list(directories.values()), []):\n",
    "        print('Документ не найден в базе.')\n",
    "    else:\n",
    "        for shelfnum, shelfvalue in directories.items():\n",
    "            if num in shelfvalue:\n",
    "                print(f'Документ хранится на полке: {shelfnum}.')\n",
    "                break\n",
    "\n",
    "shelf_num_by_docnumber()"
   ]
  },
  {
   "cell_type": "markdown",
   "metadata": {},
   "source": [
    "---"
   ]
  },
  {
   "cell_type": "markdown",
   "metadata": {},
   "source": [
    "<div class=\"alert alert-block alert-success\">\n",
    "    <b>Пункт 3.</b> Пользователь по команде \"<b>l</b>\" может увидеть полную информацию по всем документам.\n",
    "    \n",
    "</div>\n",
    "\n",
    "---"
   ]
  },
  {
   "cell_type": "code",
   "execution_count": 4,
   "metadata": {},
   "outputs": [
    {
     "name": "stdout",
     "output_type": "stream",
     "text": [
      "Текущий список документов: \n",
      "№: 2207 876234, тип: passport, владелец: Василий Гупкин, полка хранения: 1\n",
      "№: 11-2, тип: invoice, владелец: Геннадий Покемонов, полка хранения: 1\n",
      "№: 10006, тип: insurance, владелец: Аристарх Павлов, полка хранения: 2\n"
     ]
    }
   ],
   "source": [
    "def all_info():\n",
    "    '''\n",
    "    Функция выводит полную информацию по всем документам.\n",
    "    '''\n",
    "    full_list, full_item = [], {}\n",
    "    for document in documents:\n",
    "        for shelf_number, shelf_items in directories.items():\n",
    "            for shelf_item in shelf_items:\n",
    "                if shelf_item == document['number']:\n",
    "                    full_item = document\n",
    "                    full_item['shelf'] = shelf_number\n",
    "                    full_list.append(full_item)\n",
    "    print('Текущий список документов: ')\n",
    "    for item in full_list:\n",
    "        print(f'№: {item[\"number\"]}, тип: {item[\"type\"]}, владелец: {item[\"name\"]}, полка хранения: {item[\"shelf\"]}')\n",
    "\n",
    "all_info()"
   ]
  },
  {
   "cell_type": "markdown",
   "metadata": {},
   "source": [
    "---"
   ]
  },
  {
   "cell_type": "markdown",
   "metadata": {},
   "source": [
    "<div class=\"alert alert-block alert-success\">\n",
    "    <b>Пункт 4.</b> Пользователь по команде \"<b>ads</b>\" может добавить новую полку.\n",
    "    \n",
    "</div>\n",
    "\n",
    "---"
   ]
  },
  {
   "cell_type": "code",
   "execution_count": 5,
   "metadata": {},
   "outputs": [
    {
     "name": "stdout",
     "output_type": "stream",
     "text": [
      "Введите номер полки, которую нужно добавить: 1\n",
      "Такая полка уже существует. Текущий перечень полок: 1, 2, 3."
     ]
    }
   ],
   "source": [
    "def add_shelf():\n",
    "    '''\n",
    "    Функция добавляет новую полку, если ее еще нет, и выводит текущий перечень полок.\n",
    "    '''\n",
    "    new_shelf_number = input('Введите номер полки, которую нужно добавить: ')\n",
    "    if new_shelf_number not in directories.keys():\n",
    "        directories[new_shelf_number] = []\n",
    "#         первый вариант печати:\n",
    "        print(f'Полка добавлена. Текущий перечень полок: {\", \".join(directories.keys())}.')\n",
    "    else:\n",
    "#         второй вариант печати:\n",
    "        print('Такая полка уже существует. Текущий перечень полок: ', end='')\n",
    "        print(*directories.keys(), sep=', ', end='.')\n",
    "\n",
    "add_shelf()"
   ]
  },
  {
   "cell_type": "markdown",
   "metadata": {},
   "source": [
    "---"
   ]
  },
  {
   "cell_type": "markdown",
   "metadata": {},
   "source": [
    "<div class=\"alert alert-block alert-success\">\n",
    "    <b>Пункт 5.</b> Пользователь по команде \"<b>ds</b>\" может удалить существующую полку из данных (только если она пустая).\n",
    "    \n",
    "</div>\n",
    "\n",
    "---"
   ]
  },
  {
   "cell_type": "code",
   "execution_count": 6,
   "metadata": {},
   "outputs": [
    {
     "name": "stdout",
     "output_type": "stream",
     "text": [
      "Введите номер полки, которую нужно удалить: 6\n",
      "Такой полки не существует. Текущий перечень полок: 1, 2, 3.\n"
     ]
    }
   ],
   "source": [
    "def delete_shelf():\n",
    "    '''\n",
    "    Функция удаляет полку, если она пустая, и выводит текущий перечень полок.\n",
    "    '''\n",
    "    del_shelf_number = input('Введите номер полки, которую нужно удалить: ')\n",
    "    if del_shelf_number in directories.keys():\n",
    "        if directories[del_shelf_number] == []:\n",
    "            del(directories[del_shelf_number])\n",
    "            print(f'Полка удалена. Текущий перечень полок: {\", \".join(directories.keys())}', end='.')\n",
    "        else:\n",
    "            print(f'На полке есть документы. Удалите их перед удалением полки. Текущий перечень полок: {\", \".join(directories.keys())}.')\n",
    "    else:\n",
    "        print(f'Такой полки не существует. Текущий перечень полок: {\", \".join(directories.keys())}.')\n",
    "\n",
    "delete_shelf()"
   ]
  },
  {
   "cell_type": "markdown",
   "metadata": {},
   "source": [
    "---"
   ]
  },
  {
   "cell_type": "markdown",
   "metadata": {},
   "source": [
    "<div class=\"alert alert-block alert-success\">\n",
    "    Поскольку секретарь может запутаться в командах, было бы хорошо подготовить справку:\n",
    "    \n",
    "</div>\n",
    "\n",
    "---"
   ]
  },
  {
   "cell_type": "code",
   "execution_count": 7,
   "metadata": {},
   "outputs": [
    {
     "name": "stdout",
     "output_type": "stream",
     "text": [
      "Перечень доступных команд:\n",
      "\"p\" - вывести имя владельца документа по его номеру\n",
      "\"s\" - вывести по номеру документа номер полки, на которой хранится документ\n",
      "\"l\" - вывести полную информацию по всем документам\n",
      "\"ads\" - добавить новую полку\n",
      "\"ds\" - удалить пустую полку\n",
      "\"q\" - выйти из программы\n"
     ]
    }
   ],
   "source": [
    "def inquiry():\n",
    "    print('Перечень доступных команд:')\n",
    "    print('\"p\" - вывести имя владельца документа по его номеру')\n",
    "    print('\"s\" - вывести по номеру документа номер полки, на которой хранится документ')\n",
    "    print('\"l\" - вывести полную информацию по всем документам')\n",
    "    print('\"ads\" - добавить новую полку')\n",
    "    print('\"ds\" - удалить пустую полку')\n",
    "    print('\"q\" - выйти из программы')\n",
    "\n",
    "inquiry()"
   ]
  },
  {
   "cell_type": "markdown",
   "metadata": {},
   "source": [
    "---"
   ]
  },
  {
   "cell_type": "markdown",
   "metadata": {},
   "source": [
    "<div class=\"alert alert-block alert-success\">\n",
    "    Получаем следующий итоговый код в рамках <b>Задания 1</b>:\n",
    "    \n",
    "</div>\n",
    "\n",
    "---"
   ]
  },
  {
   "cell_type": "code",
   "execution_count": 8,
   "metadata": {},
   "outputs": [
    {
     "name": "stdout",
     "output_type": "stream",
     "text": [
      "Введите команду: 23\n",
      "Такой команды не существует. Для получения справки введите \"?\", для выхода из программы введите \"q\".\n",
      "Введите команду: q\n",
      "Спасибо, что воспользовались программой. До свидания!\n"
     ]
    }
   ],
   "source": [
    "while True:\n",
    "    command = input('Введите команду: ')\n",
    "    if command == 'p':\n",
    "        doc_name_by_number()\n",
    "    elif command == 's':\n",
    "        shelf_num_by_docnumber()\n",
    "    elif command =='l':\n",
    "        all_info()\n",
    "    elif command == 'ads':\n",
    "        add_shelf()\n",
    "    elif command == 'ds':\n",
    "        delete_shelf()\n",
    "    elif command == '?':\n",
    "        inquiry()\n",
    "    elif command == 'q':\n",
    "        print('Спасибо, что воспользовались программой. До свидания!')\n",
    "        break\n",
    "    else:\n",
    "        print('Такой команды не существует. Для получения справки введите \"?\", для выхода из программы введите \"q\".')"
   ]
  },
  {
   "cell_type": "markdown",
   "metadata": {},
   "source": [
    "---"
   ]
  },
  {
   "cell_type": "markdown",
   "metadata": {},
   "source": [
    "### Задание 2 (необязательное)\n",
    "Вам необходимо дополнить программу из задания 1 более продвинутыми командами."
   ]
  },
  {
   "cell_type": "markdown",
   "metadata": {},
   "source": [
    "<div class=\"alert alert-block alert-success\">\n",
    "    <b>Пункт 1.</b> Пользователь по команде \"<b>ad</b>\" может добавить новый документ в данные.\n",
    "    \n",
    "</div>\n",
    "\n",
    "---"
   ]
  },
  {
   "cell_type": "code",
   "execution_count": 9,
   "metadata": {},
   "outputs": [
    {
     "name": "stdout",
     "output_type": "stream",
     "text": [
      "Введите номер документа: q\n",
      "Введите тип документа: q\n",
      "Введите владельца документа: q\n",
      "Введите полку для хранения: q\n",
      "Такой полки не существует. Добавьте полку командой \"as\".\n",
      "Текущий список документов: \n",
      "№: 2207 876234, тип: passport, владелец: Василий Гупкин, полка хранения: 1\n",
      "№: 11-2, тип: invoice, владелец: Геннадий Покемонов, полка хранения: 1\n",
      "№: 10006, тип: insurance, владелец: Аристарх Павлов, полка хранения: 2\n"
     ]
    }
   ],
   "source": [
    "def add_doc():\n",
    "    '''\n",
    "    Функция добавляет новый документ и выводит текущий список документов.\n",
    "    '''\n",
    "    num = input('Введите номер документа: ')\n",
    "    if num in sum(list(directories.values()), []):\n",
    "        print('Документ уже был добавлен ранее.')\n",
    "    else:\n",
    "        doc_type = input('Введите тип документа: ')\n",
    "        name = input('Введите владельца документа: ')\n",
    "        shelf = input('Введите полку для хранения: ')\n",
    "        if shelf not in directories.keys():\n",
    "            print('Такой полки не существует. Добавьте полку командой \"as\".')\n",
    "        else:\n",
    "            newdoc, newdoc['type'], newdoc['number'], newdoc['name'] = {}, doc_type, num, name\n",
    "            documents.append(newdoc)\n",
    "            for key, value in directories.items():\n",
    "                if key == shelf:\n",
    "                    value.append(num)\n",
    "            print('Документ добавлен.', end=' ')\n",
    "    all_info()\n",
    "\n",
    "add_doc()"
   ]
  },
  {
   "cell_type": "markdown",
   "metadata": {},
   "source": [
    "---"
   ]
  },
  {
   "cell_type": "markdown",
   "metadata": {},
   "source": [
    "<div class=\"alert alert-block alert-success\">\n",
    "    <b>Пункт 2.</b> Пользователь по команде \"<b>d</b>\" может удалить документ из данных.\n",
    "    \n",
    "</div>\n",
    "\n",
    "---"
   ]
  },
  {
   "cell_type": "code",
   "execution_count": 10,
   "metadata": {},
   "outputs": [
    {
     "name": "stdout",
     "output_type": "stream",
     "text": [
      "Введите номер документа для его удаления: 1\n",
      "Документ не найден. Проверьте его номер еще раз.\n",
      "Текущий список документов: \n",
      "№: 2207 876234, тип: passport, владелец: Василий Гупкин, полка хранения: 1\n",
      "№: 11-2, тип: invoice, владелец: Геннадий Покемонов, полка хранения: 1\n",
      "№: 10006, тип: insurance, владелец: Аристарх Павлов, полка хранения: 2\n"
     ]
    }
   ],
   "source": [
    "def dell_doc():\n",
    "    '''\n",
    "    Функция удаляет документ по номеру, если документ есть, и выводит текущий список документов.\n",
    "    '''\n",
    "    num = input('Введите номер документа для его удаления: ')\n",
    "    if num not in sum(list(directories.values()), []):\n",
    "        print('Документ не найден. Проверьте его номер еще раз.')\n",
    "    else:\n",
    "        documents_copy = documents.copy()\n",
    "        for document in documents_copy:\n",
    "            if document['number'] == num:\n",
    "                documents.remove(document)\n",
    "                break\n",
    "        for shelf in directories.values():\n",
    "            shelf_copy = shelf.copy()\n",
    "            for item in shelf_copy:\n",
    "                if item == num:\n",
    "                    shelf.remove(item)\n",
    "                    break\n",
    "        print('Документ удален.')\n",
    "    all_info()\n",
    "\n",
    "dell_doc()"
   ]
  },
  {
   "cell_type": "markdown",
   "metadata": {},
   "source": [
    "---"
   ]
  },
  {
   "cell_type": "markdown",
   "metadata": {},
   "source": [
    "<div class=\"alert alert-block alert-success\">\n",
    "    <b>Пункт 3.</b> Пользователь по команде \"<b>m</b>\" может переместить документ с полки на полку.\n",
    "    \n",
    "</div>\n",
    "\n",
    "\n",
    "---"
   ]
  },
  {
   "cell_type": "code",
   "execution_count": 11,
   "metadata": {},
   "outputs": [
    {
     "name": "stdout",
     "output_type": "stream",
     "text": [
      "Введите номер документа для перемещения: 1\n",
      "Документ не найден. Проверьте его номер еще раз.\n",
      "Текущий список документов: \n",
      "№: 2207 876234, тип: passport, владелец: Василий Гупкин, полка хранения: 1\n",
      "№: 11-2, тип: invoice, владелец: Геннадий Покемонов, полка хранения: 1\n",
      "№: 10006, тип: insurance, владелец: Аристарх Павлов, полка хранения: 2\n"
     ]
    }
   ],
   "source": [
    "def move_doc():\n",
    "    '''\n",
    "    Функция перемещает существующий документ на заданную полку и выводит текущий список документов.\n",
    "    '''\n",
    "    num = input('Введите номер документа для перемещения: ')\n",
    "    if num not in sum(list(directories.values()), []):\n",
    "        print('Документ не найден. Проверьте его номер еще раз.')\n",
    "        all_info()\n",
    "    else:\n",
    "        new_shelf_number = input('Введите номер полки, на которую необходимо переместить документ: ')\n",
    "        if new_shelf_number not in directories.keys():\n",
    "            print(f'Такой полки не существует. Текущий перечень полок: {\", \".join(directories.keys())}', end=\".\")\n",
    "        else:\n",
    "            for shelfnum, shelfvalue in directories.items():\n",
    "                if num in shelfvalue:\n",
    "                    if shelfnum == new_shelf_number:\n",
    "                        print(f'Документ не был перемещен, т.к. уже лежит на полке {shelfnum}.')\n",
    "                        break\n",
    "                    else:                        \n",
    "                        shelfvalue.remove(num)\n",
    "                        directories[new_shelf_number].append(num)\n",
    "                        print(f'Документ перемещен с полки {shelfnum} на полку {new_shelf_number}.')\n",
    "                        break\n",
    "            all_info()\n",
    "\n",
    "move_doc()"
   ]
  },
  {
   "cell_type": "markdown",
   "metadata": {},
   "source": [
    "---"
   ]
  },
  {
   "cell_type": "markdown",
   "metadata": {},
   "source": [
    "<div class=\"alert alert-block alert-success\">\n",
    "    Дополняем справку:\n",
    "    \n",
    "</div>\n",
    "\n",
    "---"
   ]
  },
  {
   "cell_type": "code",
   "execution_count": 12,
   "metadata": {},
   "outputs": [
    {
     "name": "stdout",
     "output_type": "stream",
     "text": [
      "Перечень доступных команд:\n",
      "\"p\" - вывести имя владельца документа по его номеру\n",
      "\"s\" - вывести по номеру документа номер полки, на которой хранится документ\n",
      "\"l\" - вывести полную информацию по всем документам\n",
      "\"ads\" - добавить новую полку\n",
      "\"ds\" - удалить пустую полку\n",
      "\"ad\" - добавить новый документ в данные\n",
      "\"d\" - удалить документ из данных\n",
      "\"m\" - переместить документ с полки на полку\n",
      "\"q\" - выйти из программы\n"
     ]
    }
   ],
   "source": [
    "def inquiry():\n",
    "    print('Перечень доступных команд:')\n",
    "    print('\"p\" - вывести имя владельца документа по его номеру')\n",
    "    print('\"s\" - вывести по номеру документа номер полки, на которой хранится документ')\n",
    "    print('\"l\" - вывести полную информацию по всем документам')\n",
    "    print('\"ads\" - добавить новую полку')\n",
    "    print('\"ds\" - удалить пустую полку')\n",
    "    print('\"ad\" - добавить новый документ в данные')\n",
    "    print('\"d\" - удалить документ из данных')\n",
    "    print('\"m\" - переместить документ с полки на полку')\n",
    "    print('\"q\" - выйти из программы')\n",
    "\n",
    "inquiry()"
   ]
  },
  {
   "cell_type": "markdown",
   "metadata": {},
   "source": [
    "---"
   ]
  },
  {
   "cell_type": "markdown",
   "metadata": {},
   "source": [
    "<div class=\"alert alert-block alert-success\">\n",
    "    Включаем все вышенаписанные функции в одну функцию <b>secretary_assistant()</b> и получаем следующий итоговый код в рамках <b>Задания 2</b>:\n",
    "    \n",
    "</div>\n",
    "\n",
    "---"
   ]
  },
  {
   "cell_type": "code",
   "execution_count": 13,
   "metadata": {},
   "outputs": [
    {
     "name": "stdout",
     "output_type": "stream",
     "text": [
      "Введите команду: m\n",
      "Введите номер документа для перемещения: sdf\n",
      "Документ не найден. Проверьте его номер еще раз.\n",
      "Текущий список документов: \n",
      "№: 2207 876234, тип: passport, владелец: Василий Гупкин, полка хранения: 1\n",
      "№: 11-2, тип: invoice, владелец: Геннадий Покемонов, полка хранения: 1\n",
      "№: 10006, тип: insurance, владелец: Аристарх Павлов, полка хранения: 2\n",
      "Введите команду: q\n",
      "Спасибо, что воспользовались программой. До свидания!\n"
     ]
    }
   ],
   "source": [
    "def secretary_assistant():\n",
    "    while True:\n",
    "        command = input('Введите команду: ')\n",
    "        if command == 'p':\n",
    "            doc_name_by_number()\n",
    "        elif command == 's':\n",
    "            shelf_num_by_docnumber()\n",
    "        elif command =='l':\n",
    "            all_info()\n",
    "        elif command == 'ads':\n",
    "            add_shelf()\n",
    "        elif command == 'ds':\n",
    "            delete_shelf()\n",
    "        elif command == 'ad':\n",
    "            add_doc()\n",
    "        elif command == 'd':\n",
    "            dell_doc()\n",
    "        elif command == 'm':\n",
    "            move_doc()\n",
    "        elif command == '?':\n",
    "            inquiry()\n",
    "        elif command == 'q':\n",
    "            print('Спасибо, что воспользовались программой. До свидания!')\n",
    "            break\n",
    "        else:\n",
    "            print('Такой команды не существует. Для получения справки введите \"?\", для выхода из программы введите \"q\".')\n",
    "\n",
    "secretary_assistant()"
   ]
  },
  {
   "cell_type": "markdown",
   "metadata": {},
   "source": [
    "Решение с учетом рекомендаций преподавателя:"
   ]
  },
  {
   "cell_type": "code",
   "execution_count": 13,
   "metadata": {},
   "outputs": [
    {
     "name": "stdout",
     "output_type": "stream",
     "text": [
      "Введите команду: p\n",
      "Введите номер документа: d\n",
      "Документ не найден в базе.\n",
      "Введите команду: s\n",
      "Введите номер документа: 11-2\n",
      "Документ хранится на полке: 1.\n",
      "Введите команду: l\n",
      "Текущий список документов: \n",
      "№: 2207 876234, тип: passport, владелец: Василий Гупкин, полка хранения: 1\n",
      "№: 11-2, тип: invoice, владелец: Геннадий Покемонов, полка хранения: 1\n",
      "№: 10006, тип: insurance, владелец: Аристарх Павлов, полка хранения: 2\n",
      "Введите команду: ads\n",
      "Введите номер полки, которую нужно добавить: 4\n",
      "Полка добавлена. Текущий перечень полок: 1, 2, 3, 4.\n",
      "Введите команду: ds\n",
      "Введите номер полки, которую нужно удалить: 4\n",
      "Полка удалена. Текущий перечень полок: 1, 2, 3.Введите команду: ad\n",
      "Введите номер документа: sdf\n",
      "Введите тип документа: wer\n",
      "Введите владельца документа: sdf sdf\n",
      "Введите полку для хранения: 3\n",
      "Документ добавлен. Текущий список документов: \n",
      "№: 2207 876234, тип: passport, владелец: Василий Гупкин, полка хранения: 1\n",
      "№: 11-2, тип: invoice, владелец: Геннадий Покемонов, полка хранения: 1\n",
      "№: 10006, тип: insurance, владелец: Аристарх Павлов, полка хранения: 2\n",
      "№: sdf, тип: wer, владелец: sdf sdf, полка хранения: 3\n",
      "Введите команду: m\n",
      "Введите номер документа для перемещения: sdf\n",
      "Введите номер полки, на которую необходимо переместить документ: 2\n",
      "Документ перемещен с полки 3 на полку 2.\n",
      "Текущий список документов: \n",
      "№: 2207 876234, тип: passport, владелец: Василий Гупкин, полка хранения: 1\n",
      "№: 11-2, тип: invoice, владелец: Геннадий Покемонов, полка хранения: 1\n",
      "№: 10006, тип: insurance, владелец: Аристарх Павлов, полка хранения: 2\n",
      "№: sdf, тип: wer, владелец: sdf sdf, полка хранения: 2\n",
      "Введите команду: d\n",
      "Введите номер документа для его удаления: sdf\n",
      "Документ удален.\n",
      "Текущий список документов: \n",
      "№: 2207 876234, тип: passport, владелец: Василий Гупкин, полка хранения: 1\n",
      "№: 11-2, тип: invoice, владелец: Геннадий Покемонов, полка хранения: 1\n",
      "№: 10006, тип: insurance, владелец: Аристарх Павлов, полка хранения: 2\n",
      "Введите команду: ?\n",
      "Перечень доступных команд:\n",
      "\"p\" - вывести имя владельца документа по его номеру\n",
      "\"s\" - вывести по номеру документа номер полки, на которой хранится документ\n",
      "\"l\" - вывести полную информацию по всем документам\n",
      "\"ads\" - добавить новую полку\n",
      "\"ds\" - удалить пустую полку\n",
      "\"ad\" - добавить новый документ в данные\n",
      "\"d\" - удалить документ из данных\n",
      "\"m\" - переместить документ с полки на полку\n",
      "\"q\" - выйти из программы\n",
      "Введите команду: q\n",
      "Спасибо, что воспользовались программой. До свидания!\n"
     ]
    }
   ],
   "source": [
    "def secretary_assistant():\n",
    "    commands_list = {\n",
    "        'p': doc_name_by_number,\n",
    "        's': shelf_num_by_docnumber,\n",
    "        'l': all_info,\n",
    "        'ads': add_shelf,\n",
    "        'ds': delete_shelf,\n",
    "        'ad': add_doc,\n",
    "        'd': dell_doc,\n",
    "        'm': move_doc,\n",
    "        '?': inquiry\n",
    "    }\n",
    "\n",
    "    while True:\n",
    "        command = input('Введите команду: ')\n",
    "        if command in commands_list:\n",
    "            commands_list[command]()\n",
    "        elif command == 'q':\n",
    "            print('Спасибо, что воспользовались программой. До свидания!')\n",
    "            break\n",
    "        else:\n",
    "            print('Такой команды не существует. Для получения справки введите \"?\", для выхода из программы введите \"q\".')\n",
    "\n",
    "secretary_assistant()"
   ]
  }
 ],
 "metadata": {
  "kernelspec": {
   "display_name": "Python 3",
   "language": "python",
   "name": "python3"
  },
  "language_info": {
   "codemirror_mode": {
    "name": "ipython",
    "version": 3
   },
   "file_extension": ".py",
   "mimetype": "text/x-python",
   "name": "python",
   "nbconvert_exporter": "python",
   "pygments_lexer": "ipython3",
   "version": "3.8.5"
  }
 },
 "nbformat": 4,
 "nbformat_minor": 4
}
