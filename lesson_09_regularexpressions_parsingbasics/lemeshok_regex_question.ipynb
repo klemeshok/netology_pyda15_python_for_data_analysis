{
 "cells": [
  {
   "cell_type": "code",
   "execution_count": 6,
   "metadata": {},
   "outputs": [],
   "source": [
    "import re"
   ]
  },
  {
   "cell_type": "markdown",
   "metadata": {},
   "source": [
    "**Пример 1**"
   ]
  },
  {
   "cell_type": "code",
   "execution_count": 7,
   "metadata": {},
   "outputs": [
    {
     "data": {
      "text/plain": [
       "['123', '4567', '890']"
      ]
     },
     "execution_count": 7,
     "metadata": {},
     "output_type": "execute_result"
    }
   ],
   "source": [
    "# Здесь понятно. Ищем и выводим списком все последовательности из любого количества цифр из переменной numbers.\n",
    "\n",
    "numbers = 'Мои счастливые числа 123, 4567 и 890'\n",
    "re.findall(r'\\d+', numbers)"
   ]
  },
  {
   "cell_type": "markdown",
   "metadata": {},
   "source": [
    "**Пример 2**"
   ]
  },
  {
   "cell_type": "code",
   "execution_count": 8,
   "metadata": {},
   "outputs": [
    {
     "data": {
      "text/plain": [
       "['1', '2', '3', '4', '5', '6', '7', '8', '9', '0']"
      ]
     },
     "execution_count": 8,
     "metadata": {},
     "output_type": "execute_result"
    }
   ],
   "source": [
    "# Здесь тоже понятно. Ищем и выводим списком все цифры из переменной numbers.\n",
    "\n",
    "numbers = 'Мои счастливые числа 123, 4567 и 890'\n",
    "re.findall(r'\\d', numbers)"
   ]
  },
  {
   "cell_type": "markdown",
   "metadata": {},
   "source": [
    "**Пример 3**"
   ]
  },
  {
   "cell_type": "code",
   "execution_count": 9,
   "metadata": {},
   "outputs": [
    {
     "data": {
      "text/plain": [
       "['3', '7', '0']"
      ]
     },
     "execution_count": 9,
     "metadata": {},
     "output_type": "execute_result"
    }
   ],
   "source": [
    "# Здесь непонятно. По идее, если ссылочная группа (\\d) состоит из одной цифры, то результат должен быть такой же,\n",
    "# как в Примере 1. Но почему-то нет. Почему?\n",
    "\n",
    "numbers = 'Мои счастливые числа 123, 4567 и 890'\n",
    "re.findall(r'(\\d)+', numbers)"
   ]
  },
  {
   "cell_type": "markdown",
   "metadata": {},
   "source": [
    "Переписка в слаке по этому поводу:\n",
    "\n",
    "Alexander Sumovsky:\n",
    "- Мне кажется, что логика следующая. Одна группа должна вернуть 1 конкретное значение . В этом случае значение не получается однозначным (можно вернуть любую цифру из перечня), поэтому самый логичный способ отработать такой случай - проверяять пока выполняется условие и вернуть последний элемент в этой проверке.\n",
    "\n",
    "Oleg Bulygin:\n",
    "- Александр все верно говорит, вот тут про этол можно подробней почитать: https://www.regular-expressions.info/captureall.html\n",
    "\n",
    "Я:\n",
    "- @SunnyVesper, @Олег Коллеги, спасибо за разъяснения! Наконец, кажется, дошло. Действительно, ведь findall возвращает только то, что внутри скобочных групп, остальное игнорирует. А в примере r'(\\d)+' в скобках только одна цифра. Поэтому и возвращать надо одну цифру из всей последовательности. А раз непонятно какую, то пусть будет последняя."
   ]
  },
  {
   "cell_type": "code",
   "execution_count": 13,
   "metadata": {},
   "outputs": [
    {
     "data": {
      "text/plain": [
       "['abc']"
      ]
     },
     "execution_count": 13,
     "metadata": {},
     "output_type": "execute_result"
    }
   ],
   "source": [
    "string = '123abcabc'\n",
    "re.findall(r'(abc|123)+', string)"
   ]
  }
 ],
 "metadata": {
  "kernelspec": {
   "display_name": "Python 3",
   "language": "python",
   "name": "python3"
  },
  "language_info": {
   "codemirror_mode": {
    "name": "ipython",
    "version": 3
   },
   "file_extension": ".py",
   "mimetype": "text/x-python",
   "name": "python",
   "nbconvert_exporter": "python",
   "pygments_lexer": "ipython3",
   "version": "3.8.5"
  }
 },
 "nbformat": 4,
 "nbformat_minor": 4
}
