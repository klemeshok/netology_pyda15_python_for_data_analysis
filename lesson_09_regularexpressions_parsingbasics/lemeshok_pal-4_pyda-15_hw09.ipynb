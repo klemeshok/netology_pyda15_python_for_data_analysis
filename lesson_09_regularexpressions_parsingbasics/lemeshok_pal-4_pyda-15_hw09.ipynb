{
 "cells": [
  {
   "cell_type": "markdown",
   "metadata": {},
   "source": [
    "<div style=\"text-align: center\"> <H2> Домашнее задание №9, к лекции \"Регулярные выражения и основы синтаксического разбора\" </H2></div>\n",
    "<div style='text-align: center'> <H4> по курсу PYDA-15 - Python для анализа данных </H4></div>\n",
    "</div>\n",
    "<p>\n",
    "<div style=\"text-align: right\"> Выполнил: студент группы PAL-4 Константин Лемешок </div>\n",
    "\n",
    "\n",
    "<b>Внимание!</b> При реализации всех заданий необходимо использовать именно функционал регулярных выражений для обработки текста.\n",
    "\n",
    "---"
   ]
  },
  {
   "cell_type": "markdown",
   "metadata": {},
   "source": [
    "#### Задание 1\n",
    "<div class=\"alert alert-block alert-success\">\n",
    "Напишите функцию, которая принимает на вход строку и проверяет является ли она валидным транспортным номером (1 буква, 3 цифры, 2 буквы, 2-3 цифры). Обратите внимание, что не все буквы кириллического алфавита используются в транспортных номерах. Если номер валиден, то функция должна возвращать отдельно номер и регион.\n",
    "\n",
    "</div>\n",
    "\n",
    "---"
   ]
  },
  {
   "cell_type": "code",
   "execution_count": null,
   "metadata": {},
   "outputs": [],
   "source": [
    "def car_number_or_not():\n",
    "    \"\"\"Функция принимает на вход строку и проверяет является ли она валидным транспортным номером.\"\"\"\n",
    "    import re\n",
    "    user_input = input('Введите номер автомобиля: ').strip().upper()\n",
    "    pattern = r'([АВЕКМНОРСТУХABEKMHOPCTYX]{1}\\d{3}[АВЕКМНОРСТУХABEKMHOPCTYX]{2})(\\d{2,3})'    \n",
    "    if re.fullmatch(pattern, user_input):\n",
    "        auto_number = re.match(pattern, user_input).group(1)\n",
    "        region = re.match(pattern, user_input).group(2)\n",
    "        print(f'Результат: Номер {auto_number} валиден. Регион: {region}')\n",
    "    else:\n",
    "        print(f'Результат: Номер {user_input} не валиден.')        \n",
    "\n",
    "car_number_or_not()"
   ]
  },
  {
   "cell_type": "markdown",
   "metadata": {},
   "source": [
    "---"
   ]
  },
  {
   "cell_type": "markdown",
   "metadata": {},
   "source": [
    "#### Задание 2\n",
    "<div class=\"alert alert-block alert-success\">\n",
    "Напишите функцию, которая будет удалять все последовательные повторы слов из заданной строки при помощи регулярных выражений.\n",
    "\n",
    "</div>\n",
    "\n",
    "---"
   ]
  },
  {
   "cell_type": "code",
   "execution_count": null,
   "metadata": {},
   "outputs": [],
   "source": [
    "some_string = 'Напишите функцию ФУнкцию, которая будет будет будет будет удалять все все все все последовательные повторы слов из из из из заданной строки строки при помощи регулярных выражений.'\n",
    "\n",
    "def delete_repetition(string):\n",
    "    \"\"\"Функция удаляет все последовательные повторы слов из заданной строки.\"\"\"\n",
    "    import re\n",
    "    unrepeated_string = re.sub(r'(\\w+)(\\s+\\1)+', r'\\1', string, flags=re.IGNORECASE)\n",
    "    return unrepeated_string\n",
    "    \n",
    "delete_repetition(some_string)"
   ]
  },
  {
   "cell_type": "markdown",
   "metadata": {},
   "source": [
    "---"
   ]
  },
  {
   "cell_type": "markdown",
   "metadata": {},
   "source": [
    "#### Задание 3\n",
    "<div class=\"alert alert-block alert-success\">\n",
    "\n",
    "Напишите функцию, которая будет возвращать акроним по переданной в нее строке со словами.\n",
    "\n",
    "</div>\n",
    "\n",
    "---"
   ]
  },
  {
   "cell_type": "code",
   "execution_count": null,
   "metadata": {},
   "outputs": [],
   "source": [
    "# some_words = 'технологии'\n",
    "# some_words = 'Информационные технологии'\n",
    "some_words = 'Near Field Communication'\n",
    "# some_words = 'Very Near Field Communication'\n",
    "\n",
    "def acronym(string):\n",
    "    \"\"\"Функция возвращает акроним по переданной в нее строке со словами.\"\"\"\n",
    "    import re\n",
    "    how_many_words = len(string.split(' '))\n",
    "    if how_many_words == 1:\n",
    "        acr = re.sub(r'([A-Z,А-Я,Ё])([A-Z,А-Я,Ё]+)', r'\\1', string.upper())\n",
    "        print(f'Результат: {acr}')\n",
    "    elif how_many_words == 2:\n",
    "        acr = re.sub(r'([A-Z,А-Я,Ё])([A-Z,А-Я,Ё]+)\\s([A-Z,А-Я,Ё])([A-Z,А-Я,Ё]+)', r'\\1\\3', string.upper())\n",
    "        print(f'Результат: {acr}')\n",
    "    elif how_many_words == 3:\n",
    "        acr = re.sub(r'([A-Z,А-Я,Ё])([A-Z,А-Я,Ё]+)\\s([A-Z,А-Я,Ё])([A-Z,А-Я,Ё]+)\\s([A-Z,А-Я,Ё])([A-Z,А-Я,Ё]+)', r'\\1\\3\\5', string.upper())\n",
    "        print(f'Результат: {acr}')\n",
    "    else:\n",
    "        print('Функция не рассчитана на такой длинный акроним. Но если надо - ее несложно дописать в том же духе. Самый длинный акроним на английском - всего 54 символа :)')\n",
    "\n",
    "acronym(some_words)"
   ]
  },
  {
   "cell_type": "markdown",
   "metadata": {},
   "source": [
    "**Вопрос:** как без индексов и циклов сделать так, чтобы функция работала для любого количества слов, без необходимости прописывать свой шаблон для каждого количества слов отдельно?"
   ]
  },
  {
   "cell_type": "markdown",
   "metadata": {},
   "source": [
    "---"
   ]
  },
  {
   "cell_type": "markdown",
   "metadata": {},
   "source": [
    "#### Задание 4\n",
    "<div class=\"alert alert-block alert-success\">\n",
    "Напишите функцию, которая будет принимать на вход список email-адресов и выводить их распределение по доменным зонам.\n",
    "\n",
    "</div>\n",
    "\n",
    "---"
   ]
  },
  {
   "cell_type": "code",
   "execution_count": null,
   "metadata": {},
   "outputs": [],
   "source": [
    "emails = ['test@gmail.com', 'xyz@test.in', 'test@ya.ru', 'xyz@mail.ru', 'xyz@ya.ru', 'xyz@gmail.com']\n",
    "\n",
    "def domain_zones_count(emails):\n",
    "    \"\"\"Функция принимает на вход список email-адресов и выводит их распределение по доменным зонам.\"\"\"\n",
    "    import re\n",
    "    zones = {}\n",
    "    for address in emails:\n",
    "        domain = re.match(r'([\\w.!#$%&*+-/=?^`}{|~'']+)@(\\w+\\.\\w+)', address).group(2)\n",
    "        # Если бы мы проверяли e-mail на валидность, можно было бы сделать более строгий шаблон. Но мы \"принимаем на вход\n",
    "        # список адресов\". Значит наша задача просто никакой из них не забраковать. Поэтому такой шаблон ОК.\n",
    "        if domain not in zones:\n",
    "            zones[domain] = 1\n",
    "        else:\n",
    "            zones[domain] += 1\n",
    "    print('Результат:')\n",
    "    for domain, number in zones.items():\n",
    "        print(f'{domain}: {number}')\n",
    "\n",
    "domain_zones_count(emails)"
   ]
  },
  {
   "cell_type": "markdown",
   "metadata": {},
   "source": [
    "---"
   ]
  },
  {
   "cell_type": "markdown",
   "metadata": {},
   "source": [
    "#### Задание 5 (необязательное)\n",
    "<div class=\"alert alert-block alert-success\">\n",
    "\n",
    "Напишите функцию, которая будет подсчитывать сколько слов начинается на гласные, а сколько на согласные буквы в тексте (текст может быть написан как с использованием букв кириллицы, так и латиницы).\n",
    "\n",
    "</div>\n",
    "\n",
    "---"
   ]
  },
  {
   "cell_type": "code",
   "execution_count": null,
   "metadata": {},
   "outputs": [],
   "source": [
    "some_text = '2-й Эталонной (!) [реализацией] ?* Python - является _ \"интерпретатор\" {CPython}, / 523 под-дер-жи-ва-ющий \\ большинство активно используемых платформ. Он распространяется под свободной лицензией Python Software Foundation License, позволяющей использовать его без ограничений в любых приложениях, включая проприетарные.'\n",
    "\n",
    "def consonants_and_vowels_counter(text):\n",
    "    \"\"\"Функция подсчитывает в заданном тексте, сколько слов начинается на гласные, сколько на согласные буквы,\n",
    "    а также сколько чисел или слов, начинающихся на число (например \"3-й\" или \"5-значный\")\"\"\"\n",
    "    import re\n",
    "    \n",
    "    vowels, consonants, digits = 0, 0, 0\n",
    "    vowels_list = ['a', 'e', 'i', 'o', 'u', 'y', 'а', 'е', 'ё', 'и', 'о', 'у', 'ы', 'э', 'ю', 'я']\n",
    "    consonants_list = ['b', 'c', 'd', 'f', 'g', 'h', 'j', 'l', 'm', 'n', 'p', 'q', 'r', 's', 't', 'v', 'w', 'x', 'z', 'б', 'в', 'г', 'д', 'ж', 'з', 'й', 'к', 'л', 'м', 'н', 'п', 'р', 'с', 'т', 'ф', 'х', 'ц', 'ч', 'ш', 'щ']\n",
    "    \n",
    "    text = re.sub(r'[^\\w\\s]|_', '', text).lower()\n",
    "    words_list = re.split(r'\\s+', text)\n",
    "#     return words_list\n",
    "    \n",
    "    for word in words_list:        \n",
    "        if re.match(r'(\\w)(\\w+)?', word).group(1) in vowels_list:\n",
    "            vowels += 1\n",
    "        elif re.match(r'(\\w)(\\w+)?', word).group(1) in consonants_list:\n",
    "            consonants += 1\n",
    "        else:\n",
    "            digits += 1\n",
    "    \n",
    "    print(f'Результат:\\nСлов на гласные буквы: {vowels}\\nСлов на согласные буквы: {consonants}\\nЧисел или слов, начинающихся на число: {digits}')\n",
    "    \n",
    "consonants_and_vowels_counter(some_text)"
   ]
  },
  {
   "cell_type": "markdown",
   "metadata": {},
   "source": [
    "---"
   ]
  },
  {
   "cell_type": "markdown",
   "metadata": {},
   "source": [
    "#### Задание 6 (необязательное)\n",
    "<div class=\"alert alert-block alert-success\">\n",
    "\n",
    "Напишите функцию, которая будет проверять номер сотового телефона на валидность (только для российского формата), если он валиден, то переводить его в формат:\n",
    "+7-xxx-xxx-xx-xx\n",
    "Постарайтесь предусмотреть как можно больше адекватных форматов изначального ввода номера.\n",
    "\n",
    "</div>\n",
    "\n",
    "---"
   ]
  },
  {
   "cell_type": "code",
   "execution_count": null,
   "metadata": {},
   "outputs": [],
   "source": [
    "# phone = '+7 955 555-55-55'\n",
    "# phone = '8(955)555-55-55'\n",
    "phone = '+7 955 555 55 55'\n",
    "# phone = '7(955) 555-55-55'\n",
    "# phone = '423-555-55-5555'\n",
    "# phone = '123-456-789'\n",
    "\n",
    "def phone_number_valid_or_not_rus(phone):\n",
    "    import re\n",
    "    phone = phone.strip()\n",
    "    digits_only = re.sub(r'[\\W|_]', '', phone)\n",
    "    if re.match(r'7\\d{10}|8\\d{10}', digits_only):\n",
    "        grouped_digits = r'(\\d)(\\d{3})(\\d{3})(\\d{2})(\\d{2})'\n",
    "        formatted_number = re.sub(r'(\\d)(\\d{3})(\\d{3})(\\d{2})(\\d{2})', r'+7-\\2-\\3-\\4-\\5', digits_only)\n",
    "        print(f'Результат: {formatted_number}')\n",
    "    else:\n",
    "        print('Результат: Номер не валиден')\n",
    "    \n",
    "phone_number_valid_or_not_rus(phone)"
   ]
  },
  {
   "cell_type": "markdown",
   "metadata": {},
   "source": [
    "---"
   ]
  }
 ],
 "metadata": {
  "kernelspec": {
   "display_name": "Python 3",
   "language": "python",
   "name": "python3"
  },
  "language_info": {
   "codemirror_mode": {
    "name": "ipython",
    "version": 3
   },
   "file_extension": ".py",
   "mimetype": "text/x-python",
   "name": "python",
   "nbconvert_exporter": "python",
   "pygments_lexer": "ipython3",
   "version": "3.8.5"
  }
 },
 "nbformat": 4,
 "nbformat_minor": 4
}
