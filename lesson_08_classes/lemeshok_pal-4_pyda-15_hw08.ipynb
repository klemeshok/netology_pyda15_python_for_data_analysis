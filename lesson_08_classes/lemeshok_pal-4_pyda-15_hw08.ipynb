{
 "cells": [
  {
   "cell_type": "markdown",
   "metadata": {},
   "source": [
    "<div style=\"text-align: center\"> <H2> Домашнее задание №8, к лекции \"Понятие класса\" </H2></div>\n",
    "<div style='text-align: center'> <H4> по курсу PYDA-15 - Python для анализа данных </H4></div>\n",
    "</div>\n",
    "<p>\n",
    "<div style=\"text-align: right\"> Выполнил: студент группы PAL-4 Константин Лемешок </div>\n",
    "\n",
    "---"
   ]
  },
  {
   "cell_type": "markdown",
   "metadata": {},
   "source": [
    "### Задание 1"
   ]
  },
  {
   "cell_type": "markdown",
   "metadata": {},
   "source": [
    "<div class=\"alert alert-block alert-success\">\n",
    "\n",
    "Напишите функцию, которая возвращает название валюты (поле ‘Name’) с максимальным значением курса с помощью сервиса https://www.cbr-xml-daily.ru/daily_json.js\n",
    "    \n",
    "</div>\n",
    "\n",
    "Решение см. в коде вместе с решением к Заданию 2. Название функции - most_expensive_valute().\n",
    "\n",
    "---"
   ]
  },
  {
   "cell_type": "markdown",
   "metadata": {},
   "source": [
    "### Задание 2"
   ]
  },
  {
   "cell_type": "markdown",
   "metadata": {},
   "source": [
    "<div class=\"alert alert-block alert-success\">\n",
    "\n",
    "Добавьте в класс Rate параметр diff (со значениями True или False), который в случае значения True в методах курсов валют (eur, usd итд) будет возвращать не курс валюты, а изменение по сравнению в прошлым значением. Считайте, self.diff будет принимать значение True только при возврате значения курса. При отображении всей информации о валюте он не используется.\n",
    "    \n",
    "</div>\n",
    "\n",
    "---"
   ]
  },
  {
   "cell_type": "code",
   "execution_count": null,
   "metadata": {},
   "outputs": [],
   "source": [
    "import requests\n",
    "class Rate:\n",
    "    \"\"\"\n",
    "    Позволяет получать информацию о курсах валют за текущую дату.\n",
    "    Атрибуты класса:\n",
    "    - format_ : Значения:\n",
    "        * 'value' - возвращает только текущее значение курса валюты\n",
    "        * 'full' - возвращает полную информацию о валюте\n",
    "    - diff : Значения:\n",
    "        * False - не выводит разницу между текущим и предыдущим значением валюты\n",
    "        * True - выводит разницу между текущим и предыдущим значением валюты\n",
    "    Методы класса:\n",
    "    - exchange_rates() : возвращает ответ сервиса с информацией о валютах (детальней см. Docstring метода)\n",
    "    - make_format() : возвращает информацию о валюте currency в трех вариантах (детальней см. Docstring метода)\n",
    "    - most_expensive_valute() : возвращает самую дорогостоящую валюту в расчете за единицу\n",
    "    - eur(), usd() и аналогичные по другим валютам : Возвращает курс заданной валюты на сегодня в формате self.format    \n",
    "    \"\"\"\n",
    "    \n",
    "    def __init__(self, format_='value', diff=False):\n",
    "        self.format = format_\n",
    "        self.diff = diff\n",
    "    \n",
    "    def exchange_rates(self):\n",
    "        \"\"\"\n",
    "        Возвращает ответ сервиса с информацией о валютах в виде:\n",
    "        {\n",
    "            'AMD': {\n",
    "                'CharCode': 'AMD',\n",
    "                'ID': 'R01060',\n",
    "                'Name': 'Армянских драмов',\n",
    "                'Nominal': 100,\n",
    "                'NumCode': '051',\n",
    "                'Previous': 14.103,\n",
    "                'Value': 14.0879\n",
    "                },\n",
    "            ...\n",
    "        }\n",
    "        \"\"\"\n",
    "        self.r = requests.get('https://www.cbr-xml-daily.ru/daily_json.js').json()\n",
    "        return self.r['Valute']\n",
    "    \n",
    "    def make_format(self, currency):\n",
    "        \"\"\"\n",
    "        Возвращает информацию о валюте currency в трех вариантах:\n",
    "        - полная информация о валюте при self.format='full':\n",
    "        Rate('full').make_format('EUR')\n",
    "        {\n",
    "            'CharCode': 'EUR',\n",
    "            'ID': 'R01239',\n",
    "            'Name': 'Евро',\n",
    "            'Nominal': 1,\n",
    "            'NumCode': '978',\n",
    "            'Previous': 79.6765,\n",
    "            'Value': 79.4966\n",
    "        }\n",
    "        - только курс валюты при при self.format='value' и diff=False\n",
    "        Rate('value').make_format('EUR')\n",
    "        79.4966\n",
    "        - курс валюты и разница между текущим и предыдущим значением курса при при self.format='value' и diff=True\n",
    "        Rate('value',True).make_format('EUR')\n",
    "        \"\"\"\n",
    "        response = self.exchange_rates()\n",
    "        \n",
    "        if currency in response:\n",
    "            if self.format == 'full':\n",
    "                return response[currency]\n",
    "            \n",
    "            if self.format == 'value' and self.diff == False:\n",
    "                return response[currency]['Value']\n",
    "            \n",
    "            if self.format == 'value' and self.diff == True:\n",
    "                return response[currency]['Value'], response[currency]['Value'] - response[currency]['Previous']\n",
    "        \n",
    "        return 'Error'\n",
    "    \n",
    "    def most_expensive_valute(self):\n",
    "        \"\"\"Возвращает самую дорогостоящую валюту в расчете за единицу\"\"\"\n",
    "        valute_value = 0\n",
    "        response = self.exchange_rates()\n",
    "        for name, data in response.items():\n",
    "            if data['Value'] / data['Nominal'] > valute_value:\n",
    "                valute_value = data['Value'] / data['Nominal']\n",
    "                valute_name = data['Name']\n",
    "        return valute_name, valute_value\n",
    "    \n",
    "    def eur(self):\n",
    "        \"\"\"Возвращает курс евро на сегодня в формате self.format\"\"\"\n",
    "        return self.make_format('EUR')\n",
    "    \n",
    "    def usd(self):\n",
    "        \"\"\"Возвращает курс доллара на сегодня в формате self.format\"\"\"\n",
    "        return self.make_format('USD')\n",
    "    \n",
    "    def brl(self):\n",
    "        \"\"\"Возвращает курс бразильского реала на сегодня в формате self.format\"\"\"\n",
    "        return self.make_format('BRL')       "
   ]
  },
  {
   "cell_type": "code",
   "execution_count": null,
   "metadata": {},
   "outputs": [],
   "source": [
    "a = Rate(diff=True)"
   ]
  },
  {
   "cell_type": "code",
   "execution_count": null,
   "metadata": {},
   "outputs": [],
   "source": [
    "a.most_expensive_valute()"
   ]
  },
  {
   "cell_type": "code",
   "execution_count": null,
   "metadata": {},
   "outputs": [],
   "source": [
    "Rate('value',True).make_format('EUR')"
   ]
  },
  {
   "cell_type": "code",
   "execution_count": null,
   "metadata": {},
   "outputs": [],
   "source": [
    "a.eur()"
   ]
  },
  {
   "cell_type": "markdown",
   "metadata": {},
   "source": [
    "---"
   ]
  },
  {
   "cell_type": "markdown",
   "metadata": {},
   "source": [
    "### Задание 3"
   ]
  },
  {
   "cell_type": "markdown",
   "metadata": {},
   "source": [
    "<div class=\"alert alert-block alert-success\">\n",
    "Напишите класс Designer, который учитывает количество международных премий для дизайнеров. Повышение на 1 грейд за каждые 7 баллов. Получение международной премии – это +2 балла.\n",
    "    \n",
    "    Чтобы задача была ближе к реальности, изменил изначальное условие: \"Считайте, что при выходе на работу сотрудник уже имеет две премии, и их количество не меняется со стажем\" на следующее: \"При выходе на работу у сотрудника нет международных премий, но он может получить их в процессе работы\".\n",
    "\n",
    "</div>\n",
    "\n",
    "---"
   ]
  },
  {
   "cell_type": "code",
   "execution_count": null,
   "metadata": {},
   "outputs": [],
   "source": [
    "class Employee:\n",
    "    \"\"\"\n",
    "    С помощью класса можно выполнять базовые действия в рамках системы повышения сотрудников.\n",
    "    Атрибуты класса:\n",
    "    - name : Имя сотрудника\n",
    "    - seniority : Количество баллов сотрудника в результате пройденных аккредитаций и других достижений\n",
    "    Методы класса:\n",
    "    - grade_up() : Повышает уровень сотрудника\n",
    "    - publish_grade() : Публикует уровень сотрудника\n",
    "    \"\"\"\n",
    "    def __init__(self, name, seniority):\n",
    "        self.name = name\n",
    "        self.seniority = seniority        \n",
    "        self.grade = 1    \n",
    "    \n",
    "    def grade_up(self):\n",
    "        \"\"\"Повышает уровень сотрудника\"\"\"\n",
    "        self.grade += 1\n",
    "    \n",
    "    def publish_grade(self):\n",
    "        \"\"\"Публикует результаты аккредитации сотрудников\"\"\"\n",
    "        print(f'Имя: {self.name}, баллы: {self.seniority}, уровень: {self.grade}')"
   ]
  },
  {
   "cell_type": "code",
   "execution_count": null,
   "metadata": {},
   "outputs": [],
   "source": [
    "class Designer(Employee):\n",
    "    \"\"\"\n",
    "    Наследует класс Employee() и реализует систему повышения для дизайнера.\n",
    "    Методы класса:\n",
    "    - check_if_it_is_time_for_upgrade() : Проверяет, не пора ли повысить уровень дизайнера, если пора - повышает\n",
    "    - international_prize() : После получения международной премии увеличивает количество баллов дизайнера на 2,\n",
    "        возвращает текущий уровень дизайнера\n",
    "    - accreditation() : Вследствие прохождения аккредитации увеличивает количество баллов дизайнера на 1,\n",
    "        возвращает текущий уровень дизайнера\n",
    "    \"\"\"\n",
    "    def __init__(self, name, seniority):\n",
    "        super().__init__(name, seniority)\n",
    "        \n",
    "    def check_if_it_is_time_for_upgrade(self):                \n",
    "        \"\"\"\n",
    "        Проверяет, не пора ли повысить уровень дизайнера. Повышает его в случае, если:\n",
    "        - дизайнер получил количество баллов кратное 7 после очередной аккредитации\n",
    "        - дизайнер получил количество балов, делящееся на 7 с остатком 1 после получения международной премии\n",
    "        Возвращает текущий уровень дизайнера.\n",
    "        \"\"\"\n",
    "        if (self.seniority !=0 and self.seniority % 7 == 0) or (self.seniority % 7 == 1 and self.jump == True):\n",
    "            self.grade_up()        \n",
    "        return self.publish_grade()\n",
    "\n",
    "    def international_prize(self):\n",
    "        \"\"\"\n",
    "        Увеличивает количество баллов дизайнера на 2 после получения международной премии.\n",
    "        Возвращает текущее количество баллов и уровень дизайнера.\n",
    "        \"\"\"        \n",
    "        self.seniority += 2\n",
    "        self.jump = True\n",
    "        self.check_if_it_is_time_for_upgrade()\n",
    "        \n",
    "    def accreditation(self):\n",
    "        \"\"\"\n",
    "        Увеличивает количество баллов дизайнера на 1 после прохождения аккредитации.\n",
    "        Возвращает текущее количество баллов и уровень дизайнера.\n",
    "        \"\"\"        \n",
    "        self.seniority += 1\n",
    "        self.jump = False\n",
    "        self.check_if_it_is_time_for_upgrade()"
   ]
  },
  {
   "cell_type": "code",
   "execution_count": null,
   "metadata": {},
   "outputs": [],
   "source": [
    "John = Designer('John', 0)"
   ]
  },
  {
   "cell_type": "code",
   "execution_count": null,
   "metadata": {},
   "outputs": [],
   "source": [
    "John.accreditation()"
   ]
  },
  {
   "cell_type": "code",
   "execution_count": null,
   "metadata": {},
   "outputs": [],
   "source": [
    "John.international_prize()"
   ]
  },
  {
   "cell_type": "markdown",
   "metadata": {},
   "source": [
    "---"
   ]
  }
 ],
 "metadata": {
  "kernelspec": {
   "display_name": "Python 3",
   "language": "python",
   "name": "python3"
  },
  "language_info": {
   "codemirror_mode": {
    "name": "ipython",
    "version": 3
   },
   "file_extension": ".py",
   "mimetype": "text/x-python",
   "name": "python",
   "nbconvert_exporter": "python",
   "pygments_lexer": "ipython3",
   "version": "3.8.5"
  }
 },
 "nbformat": 4,
 "nbformat_minor": 4
}
