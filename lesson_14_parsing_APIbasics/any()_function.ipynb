{
 "cells": [
  {
   "cell_type": "markdown",
   "metadata": {},
   "source": [
    "See explanation of the below code here: https://realpython.com/any-python/"
   ]
  },
  {
   "cell_type": "code",
   "execution_count": 9,
   "metadata": {},
   "outputs": [
    {
     "name": "stdout",
     "output_type": "stream",
     "text": [
      "Scheduled interview with Susan Jones\n",
      "Scheduled interview with Sam Hughes\n"
     ]
    }
   ],
   "source": [
    "def schedule_interview(applicant):\n",
    "    print(f\"Scheduled interview with {applicant['name']}\")\n",
    "\n",
    "applicants = [\n",
    "    {\n",
    "        \"name\": \"Devon Smith\",\n",
    "        \"programming_languages\": [\"c++\", \"ada\"],\n",
    "        \"years_of_experience\": 1,\n",
    "        \"has_degree\": False,\n",
    "        \"email_address\": \"devon@email.com\",\n",
    "    },\n",
    "    {\n",
    "        \"name\": \"Susan Jones\",\n",
    "        \"programming_languages\": [\"python\", \"javascript\"],\n",
    "        \"years_of_experience\": 2,\n",
    "        \"has_degree\": False,\n",
    "        \"email_address\": \"susan@email.com\",\n",
    "    },\n",
    "    {\n",
    "        \"name\": \"Sam Hughes\",\n",
    "        \"programming_languages\": [\"java\"],\n",
    "        \"years_of_experience\": 4,\n",
    "        \"has_degree\": True,\n",
    "        \"email_address\": \"sam@email.com\",\n",
    "    },\n",
    "]\n",
    "for applicant in applicants:\n",
    "    knows_python = \"python\" in applicant[\"programming_languages\"]\n",
    "    experienced_dev = applicant[\"years_of_experience\"] >= 5\n",
    "\n",
    "    meets_criteria = (\n",
    "        knows_python\n",
    "        or experienced_dev\n",
    "        or applicant[\"has_degree\"]\n",
    "    )\n",
    "    if meets_criteria:\n",
    "        schedule_interview(applicant)"
   ]
  },
  {
   "cell_type": "code",
   "execution_count": 12,
   "metadata": {},
   "outputs": [
    {
     "data": {
      "text/plain": [
       "True"
      ]
     },
     "execution_count": 12,
     "metadata": {},
     "output_type": "execute_result"
    }
   ],
   "source": [
    "l = [1, 3, 4, 0]\n",
    "any(l)"
   ]
  },
  {
   "cell_type": "code",
   "execution_count": 15,
   "metadata": {},
   "outputs": [
    {
     "data": {
      "text/plain": [
       "True"
      ]
     },
     "execution_count": 15,
     "metadata": {},
     "output_type": "execute_result"
    }
   ],
   "source": [
    "meets_criteria = True or False or False\n",
    "meets_criteria"
   ]
  },
  {
   "cell_type": "code",
   "execution_count": 11,
   "metadata": {},
   "outputs": [
    {
     "data": {
      "text/plain": [
       "True"
      ]
     },
     "execution_count": 11,
     "metadata": {},
     "output_type": "execute_result"
    }
   ],
   "source": [
    "False or True"
   ]
  },
  {
   "cell_type": "code",
   "execution_count": 10,
   "metadata": {},
   "outputs": [
    {
     "name": "stdout",
     "output_type": "stream",
     "text": [
      "Scheduled interview with Susan Jones\n",
      "Scheduled interview with Sam Hughes\n"
     ]
    }
   ],
   "source": [
    "for applicant in applicants:\n",
    "    knows_python = \"python\" in applicant[\"programming_languages\"]\n",
    "    experienced_dev = applicant[\"years_of_experience\"] >= 5\n",
    "\n",
    "    credentials = (\n",
    "        knows_python,\n",
    "        experienced_dev,\n",
    "        applicant[\"has_degree\"],\n",
    "    )\n",
    "    if any(credentials):\n",
    "        schedule_interview(applicant)"
   ]
  }
 ],
 "metadata": {
  "kernelspec": {
   "display_name": "Python 3",
   "language": "python",
   "name": "python3"
  },
  "language_info": {
   "codemirror_mode": {
    "name": "ipython",
    "version": 3
   },
   "file_extension": ".py",
   "mimetype": "text/x-python",
   "name": "python",
   "nbconvert_exporter": "python",
   "pygments_lexer": "ipython3",
   "version": "3.8.5"
  }
 },
 "nbformat": 4,
 "nbformat_minor": 4
}
