{
 "cells": [
  {
   "cell_type": "markdown",
   "metadata": {},
   "source": [
    "<div style=\"text-align: center\"> <H2> Домашнее задание №6, к лекции \"Работа с файловой системой и модули\" </H2></div>\n",
    "<div style='text-align: center'> <H4> по курсу PYDA-15 - Python для анализа данных </H4></div>\n",
    "</div>\n",
    "<p>\n",
    "<div style=\"text-align: right\"> Выполнил: студент группы PAL-4 Константин Лемешок </div>\n",
    "\n",
    "---"
   ]
  },
  {
   "cell_type": "markdown",
   "metadata": {},
   "source": [
    "Учтите условия на данные:\n",
    "\n",
    "* содержимое purchase_log.txt помещается в оперативную память компьютера;</li>\n",
    "* содержимое visit_log.csv - нет; используйте только построчную обработку этого файла.</li>"
   ]
  },
  {
   "cell_type": "markdown",
   "metadata": {},
   "source": [
    "**Комментарии преподавателя к исходной работе**"
   ]
  },
  {
   "cell_type": "markdown",
   "metadata": {},
   "source": [
    "Добрый день, спасибо за решения.\n",
    "Все верно.\n",
    "\n",
    "При чтении словарей из файла использовать метод strip весьма ненадежно. При любом изменении размера строк или их порядке все сломается. Проще json.loads.\n",
    "\n",
    "Также во втором задании лучше не полагаться на размеры строк: вместо user_id, source = line.strip()[:10], line.strip() надежней будет user_id, source = line.strip().split(',')."
   ]
  },
  {
   "cell_type": "markdown",
   "metadata": {},
   "source": [
    "### Задание 1"
   ]
  },
  {
   "cell_type": "markdown",
   "metadata": {},
   "source": [
    "<div class=\"alert alert-block alert-success\">\n",
    "    Переведите содержимое файла purchase_log.txt в словарь purchases вида: {‘1840e0b9d4’: ‘Продукты’, …}\n",
    "    \n",
    "</div>\n",
    "\n",
    "---"
   ]
  },
  {
   "cell_type": "markdown",
   "metadata": {},
   "source": [
    "**Изначальное решение**"
   ]
  },
  {
   "cell_type": "code",
   "execution_count": 1,
   "metadata": {},
   "outputs": [
    {
     "name": "stdout",
     "output_type": "stream",
     "text": [
      "1840e0b9d4 : Продукты\n",
      "4e4f90fcfb : Электроника\n",
      "afea8d72fc : Электроника\n",
      "373a6055fe : Бытовая техника\n",
      "9b2ab046f3 : Электроника\n",
      "9f39d307c3 : Электроника\n"
     ]
    }
   ],
   "source": [
    "purchases = {}\n",
    "f = open('purchase_log.txt', 'r')\n",
    "\n",
    "# Несмотря на то, что purchase_log.txt по условиям задачи помещается в оперативную память,\n",
    "# для решения задачи нет смысла читать его целиком, поэтому читаем построчно.\n",
    "# Если все же надо прочитать purchase_log.txt целиком, на что, возможно, намекается в условиях задачи,\n",
    "# то вместо f.readline() выполняем f.readlines(), а затем переводим каретку в начало второй строки\n",
    "# командой f.seek(47)\n",
    "\n",
    "f.readline()\n",
    "for line in f:\n",
    "    key, value = line.strip()[13:23], line.strip()[39:-2]\n",
    "    purchases[key] = value\n",
    "f.close()\n",
    "\n",
    "# i = 0\n",
    "# for key, value in purchases.items():\n",
    "#     print(key, ':', value)\n",
    "#     i += 1\n",
    "#     if i > 5:\n",
    "#         break"
   ]
  },
  {
   "cell_type": "markdown",
   "metadata": {},
   "source": [
    "**Решение с учетом правок от преподавателя**"
   ]
  },
  {
   "cell_type": "code",
   "execution_count": 11,
   "metadata": {},
   "outputs": [
    {
     "name": "stdout",
     "output_type": "stream",
     "text": [
      "user_id : category\n",
      "1840e0b9d4 : Продукты\n",
      "4e4f90fcfb : Электроника\n",
      "afea8d72fc : Электроника\n",
      "373a6055fe : Бытовая техника\n",
      "9b2ab046f3 : Электроника\n"
     ]
    }
   ],
   "source": [
    "import json\n",
    "purchases = {}\n",
    "f = open('purchase_log.txt', 'r')\n",
    "\n",
    "for line in f:\n",
    "    line_dict = json.loads(line.strip())\n",
    "    purchases[line_dict[\"user_id\"]] = line_dict[\"category\"]\n",
    "f.close()\n",
    "\n",
    "# i = 0\n",
    "# for key, value in purchases.items():\n",
    "#     print(key, ':', value)\n",
    "#     i += 1\n",
    "#     if i > 5:\n",
    "#         break"
   ]
  },
  {
   "cell_type": "markdown",
   "metadata": {},
   "source": [
    "---"
   ]
  },
  {
   "cell_type": "markdown",
   "metadata": {},
   "source": [
    "### Задание 2"
   ]
  },
  {
   "cell_type": "markdown",
   "metadata": {},
   "source": [
    "<div class=\"alert alert-block alert-success\">\n",
    "Для каждого user_id в файле visit_log.csv определите третий столбец с категорией покупки (если покупка была, сам файл visit_log.csv изменять не надо). Запишите в файл funnel.csv визиты из файла visit_log.csv, в которых были покупки с указанием категории.\n",
    "    \n",
    "</div>\n",
    "\n",
    "---"
   ]
  },
  {
   "cell_type": "markdown",
   "metadata": {},
   "source": [
    "**Изначальное решение**"
   ]
  },
  {
   "cell_type": "code",
   "execution_count": 16,
   "metadata": {},
   "outputs": [
    {
     "name": "stdout",
     "output_type": "stream",
     "text": [
      "0 1840e0b9d4,other,Продукты\n",
      "\n",
      "1 4e4f90fcfb,context,Электроника\n",
      "\n",
      "2 afea8d72fc,other,Электроника\n",
      "\n",
      "3 2824221f38,email,Продукты\n",
      "\n",
      "4 373a6055fe,other,Бытовая техника\n",
      "\n",
      "5 9b2ab046f3,other,Электроника\n",
      "\n"
     ]
    }
   ],
   "source": [
    "# для решения Задания 2 используем словарь purchases из Задания 1.\n",
    "\n",
    "with open('funnel.csv', 'w') as funnel:\n",
    "    visits = open('visit_log.csv', 'r')\n",
    "    visits.readline()\n",
    "    for line in visits:\n",
    "        user_id, source = line.strip()[:10], line.strip()[11:]        \n",
    "        if user_id in purchases:\n",
    "            funnel.write(f'{user_id},{source},{purchases[user_id]}\\n')\n",
    "    visits.close()\n",
    "\n",
    "with open('funnel.csv', 'r') as funnel:\n",
    "    for i, line in enumerate(funnel):\n",
    "        print(i, line)\n",
    "        if i>4:\n",
    "            break"
   ]
  },
  {
   "cell_type": "markdown",
   "metadata": {},
   "source": [
    "**Решение с учетом правок от преподавателя**"
   ]
  },
  {
   "cell_type": "code",
   "execution_count": 22,
   "metadata": {},
   "outputs": [
    {
     "name": "stdout",
     "output_type": "stream",
     "text": [
      "0 1840e0b9d4,other,Продукты\n",
      "\n",
      "1 4e4f90fcfb,context,Электроника\n",
      "\n",
      "2 afea8d72fc,other,Электроника\n",
      "\n",
      "3 2824221f38,email,Продукты\n",
      "\n",
      "4 373a6055fe,other,Бытовая техника\n",
      "\n",
      "5 9b2ab046f3,other,Электроника\n",
      "\n"
     ]
    }
   ],
   "source": [
    "with open('funnel.csv', 'w') as funnel:\n",
    "    visits = open('visit_log.csv', 'r')\n",
    "    visits.readline()\n",
    "    for line in visits:\n",
    "#         print(line.strip().split(','))\n",
    "#         break\n",
    "        user_id, source = line.strip().split(',')\n",
    "        if user_id in purchases:\n",
    "            funnel.write(f'{user_id},{source},{purchases[user_id]}\\n')\n",
    "    visits.close()\n",
    "\n",
    "# with open('funnel.csv', 'r') as funnel:\n",
    "#     for i, line in enumerate(funnel):\n",
    "#         print(i, line)\n",
    "#         if i>4:\n",
    "#             break"
   ]
  },
  {
   "cell_type": "markdown",
   "metadata": {},
   "source": [
    "---"
   ]
  }
 ],
 "metadata": {
  "kernelspec": {
   "display_name": "Python 3",
   "language": "python",
   "name": "python3"
  },
  "language_info": {
   "codemirror_mode": {
    "name": "ipython",
    "version": 3
   },
   "file_extension": ".py",
   "mimetype": "text/x-python",
   "name": "python",
   "nbconvert_exporter": "python",
   "pygments_lexer": "ipython3",
   "version": "3.8.5"
  }
 },
 "nbformat": 4,
 "nbformat_minor": 4
}
