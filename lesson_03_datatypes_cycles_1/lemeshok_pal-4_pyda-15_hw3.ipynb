{
 "cells": [
  {
   "cell_type": "markdown",
   "metadata": {},
   "source": [
    "<div style=\"text-align: center\"> <H2> Домашнее задание №3, к лекции \"Управляющие конструкции и коллекции, ч.1\" </H2></div>\n",
    "<div style='text-align: center'> <H4> по курсу PYDA-15 - Python для анализа данных </H4></div>\n",
    "</div>\n",
    "<p>\n",
    "<div style=\"text-align: right\"> Выполнил: студент группы PAL-4 Константин Лемешок </div>\n",
    "\n",
    "---"
   ]
  },
  {
   "cell_type": "markdown",
   "metadata": {},
   "source": [
    "#### Задание 1\n",
    "<div class=\"alert alert-block alert-success\">\n",
    "Дана переменная, в которой хранится слово из латинских букв. Напишите код, который выводит на экран:\n",
    "\n",
    "- среднюю букву, если число букв в слове нечетное;\n",
    "- две средних буквы, если число букв четное.\n",
    "\n",
    "</div>\n",
    "\n",
    "---"
   ]
  },
  {
   "cell_type": "code",
   "execution_count": 2,
   "metadata": {},
   "outputs": [
    {
     "name": "stdout",
     "output_type": "stream",
     "text": [
      "Введите набор символов, например, слово из латинских букв: sdfsdf\n",
      "В середине вашего набора символов (слОва) находятся символы \"fs\"\n"
     ]
    }
   ],
   "source": [
    "word = input('Введите набор символов, например, слово из латинских букв: ')\n",
    "if len(word) % 2 == 0:\n",
    "    wordmiddle = int(len(word) / 2 - 1)\n",
    "    print(f'В середине вашего набора символов (слОва) находятся символы \"{word[wordmiddle:wordmiddle + 2]}\"')\n",
    "else: \n",
    "    print(f'В середине вашего набора символов (слОва) находится символ \"{word[wordmiddle]}\"')"
   ]
  },
  {
   "cell_type": "markdown",
   "metadata": {},
   "source": [
    "---"
   ]
  },
  {
   "cell_type": "markdown",
   "metadata": {},
   "source": [
    "#### Задание 2\n",
    "<div class=\"alert alert-block alert-success\">\n",
    "Напишите программу, которая последовательно запрашивает у пользователя числа (по одному за раз) и после первого нуля выводит сумму всех ранее введенных чисел.\n",
    "\n",
    "</div>\n",
    "\n",
    "---"
   ]
  },
  {
   "cell_type": "code",
   "execution_count": null,
   "metadata": {},
   "outputs": [],
   "source": [
    "number = 1\n",
    "summa = 0\n",
    "while number != 0:\n",
    "    number = int(input('Введите целое число: '))\n",
    "    summa = summa + number\n",
    "print(f'Сумма введенных вами чисел равна {summa}')"
   ]
  },
  {
   "cell_type": "markdown",
   "metadata": {},
   "source": [
    "---"
   ]
  },
  {
   "cell_type": "markdown",
   "metadata": {},
   "source": [
    "#### Задание 3\n",
    "<div class=\"alert alert-block alert-success\">\n",
    "Мы делаем <a href=https://ru.wikipedia.org/wiki/%D0%9C%D0%B8%D0%BD%D0%B8%D0%BC%D0%B0%D0%BB%D1%8C%D0%BD%D0%BE_%D0%B6%D0%B8%D0%B7%D0%BD%D0%B5%D1%81%D0%BF%D0%BE%D1%81%D0%BE%D0%B1%D0%BD%D1%8B%D0%B9_%D0%BF%D1%80%D0%BE%D0%B4%D1%83%D0%BA%D1%82>MVP</a> dating-сервиса, и у нас есть список парней и девушек.  \n",
    "Выдвигаем гипотезу: лучшие рекомендации мы получим, если просто отсортируем имена по алфавиту и познакомим людей с одинаковыми индексами после сортировки!\n",
    "Но мы не будем никого знакомить, если кто-то может остаться без пары.\n",
    "\n",
    "</div>\n",
    "\n",
    "---"
   ]
  },
  {
   "cell_type": "markdown",
   "metadata": {},
   "source": [
    "**Решение 1 (с оператором for)**"
   ]
  },
  {
   "cell_type": "code",
   "execution_count": 1,
   "metadata": {},
   "outputs": [
    {
     "name": "stdout",
     "output_type": "stream",
     "text": [
      "Идеальные пары:\n",
      "Alex и Emma\n",
      "Arthur и Kate\n",
      "John и Kira\n",
      "Peter и Liza\n",
      "Richard и Trisha\n"
     ]
    }
   ],
   "source": [
    "boys = ['Peter', 'Alex', 'John', 'Arthur', 'Richard']\n",
    "# boys = ['Peter', 'Alex', 'John', 'Arthur', 'Richard', 'Michael']\n",
    "girls = ['Kate', 'Liza', 'Kira', 'Emma', 'Trisha']\n",
    "if len(boys) != len(girls):\n",
    "    print('Знакомств сегодня не будет: количество мальчиков и девочек - неравное, и кто-то останется без пары.')\n",
    "else:\n",
    "    sortedboys = sorted(boys)\n",
    "    sortedgirls = sorted(girls)\n",
    "    print('Идеальные пары:')\n",
    "    for i in range(len(boys)):\n",
    "        print(f'{sortedboys[i]} и {sortedgirls[i]}')"
   ]
  },
  {
   "cell_type": "markdown",
   "metadata": {},
   "source": [
    "**Решение 2 (с оператором while)**"
   ]
  },
  {
   "cell_type": "code",
   "execution_count": null,
   "metadata": {},
   "outputs": [],
   "source": [
    "boys = ['Peter', 'Alex', 'John', 'Arthur', 'Richard']\n",
    "# boys = ['Peter', 'Alex', 'John', 'Arthur', 'Richard', 'Michael']\n",
    "girls = ['Kate', 'Liza', 'Kira', 'Emma', 'Trisha']\n",
    "if len(boys) != len(girls):\n",
    "    print('Знакомств сегодня не будет: количество мальчиков и девочек - неравное, и кто-то останется без пары.')\n",
    "else:\n",
    "    sortedboys = sorted(boys)\n",
    "    sortedgirls = sorted(girls)\n",
    "    print('Идеальные пары:')\n",
    "    length = 0\n",
    "    while length < len(boys):\n",
    "        print(f'{sortedboys[length]} и {sortedgirls[length]}')\n",
    "        length += 1"
   ]
  },
  {
   "cell_type": "markdown",
   "metadata": {},
   "source": [
    "---"
   ]
  },
  {
   "cell_type": "markdown",
   "metadata": {},
   "source": [
    "#### Задание 4\n",
    "<div class=\"alert alert-block alert-success\">\n",
    "У нас есть список, содержащий информацию о среднедневной температуре в Фаренгейтах за произвольный период по странам (структура данных в примере).\n",
    "Необходимо написать код, который рассчитает среднюю температуру за период в Цельсиях (!) для каждой страны.\n",
    "\n",
    "</div>\n",
    "\n",
    "---"
   ]
  },
  {
   "cell_type": "markdown",
   "metadata": {},
   "source": [
    "**Решения 1 и 2 (без вложенного цикла)**"
   ]
  },
  {
   "cell_type": "code",
   "execution_count": null,
   "metadata": {},
   "outputs": [],
   "source": [
    "countries_temperature = [\n",
    "    ['Thailand', [75.2, 77, 78.8, 73.4, 68, 75.2, 77]],\n",
    "    ['Germany', [57.2, 55.4, 59, 59, 53.6]],\n",
    "    ['Russia', [35.6, 37.4, 39.2, 41, 42.8, 39.2, 35.6]],\n",
    "    ['Poland', [50, 50, 53.6, 57.2, 55.4, 55.4]]\n",
    "]\n",
    "averagecelcius = []\n",
    "for item in countries_temperature:\n",
    "    averagecelcius.append(round((sum(item[1]) / len(item[1]) - 32) * 5 / 9 , 1)) \n",
    "print('Средняя температура в странах: ')\n",
    "\n",
    "# дальше предлагаю один из двух вариантов (первый - активен, второй - в закоментированном виде)\n",
    "\n",
    "#1\n",
    "for i in range(len(countries_temperature)):\n",
    "    print(f'{countries_temperature[i][0]} - {averagecelcius[i]} C')\n",
    "\n",
    "#2\n",
    "# number = 0\n",
    "# for item in countries_temperature:\n",
    "#     print(f'{countries_temperature[number][0]} - {averagecelcius[number]} C')\n",
    "#     number += 1"
   ]
  },
  {
   "cell_type": "markdown",
   "metadata": {},
   "source": [
    "**Решение 3 (со вложенным циклом)**"
   ]
  },
  {
   "cell_type": "code",
   "execution_count": null,
   "metadata": {},
   "outputs": [],
   "source": [
    "countries_temperature = [\n",
    "    ['Thailand', [75.2, 77, 78.8, 73.4, 68, 75.2, 77]],\n",
    "    ['Germany', [57.2, 55.4, 59, 59, 53.6]],\n",
    "    ['Russia', [35.6, 37.4, 39.2, 41, 42.8, 39.2, 35.6]],\n",
    "    ['Poland', [50, 50, 53.6, 57.2, 55.4, 55.4]]\n",
    "]\n",
    "print('Средняя температура в странах: ')\n",
    "for country_info in countries_temperature:\n",
    "    temp_sum = 0\n",
    "    for temp in country_info[1]:\n",
    "        temp_sum += temp\n",
    "    print(f'{country_info[0]} -', round((temp_sum / len(country_info[1]) - 32) * 5 / 9, 1), 'C')"
   ]
  },
  {
   "cell_type": "markdown",
   "metadata": {},
   "source": [
    "---"
   ]
  },
  {
   "cell_type": "markdown",
   "metadata": {},
   "source": [
    "#### Задание 5 (необязательное)\n",
    "<div class=\"alert alert-block alert-success\">\n",
    "Дан поток логов по количеству просмотренных страниц для каждого пользователя. Вам необходимо написать алгоритм, который считает среднее значение просмотров на пользователя. Т. е. надо посчитать отношение суммы всех просмотров к количеству уникальных пользователей.\n",
    "\n",
    "</div>\n",
    "\n",
    "---"
   ]
  },
  {
   "cell_type": "code",
   "execution_count": null,
   "metadata": {},
   "outputs": [],
   "source": [
    "# stream = [\n",
    "#     '2018-01-01,user1,3',\n",
    "#     '2018-01-07,user1,4',\n",
    "#     '2018-03-29,user1,1',\n",
    "#     '2018-04-04,user1,13',\n",
    "#     '2018-01-05,user2,7',\n",
    "#     '2018-06-14,user3,4',\n",
    "#     '2018-07-02,user3,10',\n",
    "#     '2018-03-21,user4,19',\n",
    "#     '2018-03-22,user4,4',\n",
    "#     '2018-04-22,user4,8',\n",
    "#     '2018-05-03,user4,9',\n",
    "#     '2018-05-11,user4,11',\n",
    "# ]\n",
    "\n",
    "stream = [\n",
    "    '2018-01-01,user100,150',\n",
    "    '2018-01-07,user99,205',\n",
    "    '2018-03-29,user1001,81'\n",
    "]\n",
    "\n",
    "users = []\n",
    "visits = []\n",
    "for i in range(len(stream)):\n",
    "    splitted = stream[i].split(',')\n",
    "    users.append(splitted[1])\n",
    "    visits.append(int(splitted[2]))\n",
    "print('Среднее количество просмотров на уникального пользователя:', round(sum(visits) / len(set(users)), 2))"
   ]
  },
  {
   "cell_type": "markdown",
   "metadata": {},
   "source": [
    "---"
   ]
  },
  {
   "cell_type": "markdown",
   "metadata": {},
   "source": [
    "#### Задание 6 (необязательное)\n",
    "<div class=\"alert alert-block alert-success\">\n",
    "Необходимо у пользователя запрашивать набор чисел разделенных пробелом. В результате должны выводиться числа, которые повторяются в вводе более одного раза.\n",
    "\n",
    "</div>\n",
    "\n",
    "---"
   ]
  },
  {
   "cell_type": "code",
   "execution_count": null,
   "metadata": {},
   "outputs": [],
   "source": [
    "string = input('Введите набор чисел, разделенных пробелом: ')\n",
    "listedstring = string.split(' ')\n",
    "setstring = set(listedstring)\n",
    "listedset = sorted(list(setstring))\n",
    "print('Во введенном вами наборе следующие числа встречаются более одного раза:', end=' ')\n",
    "for item in listedset:\n",
    "    if listedstring.count(item) > 1:\n",
    "        print(item, end=' ')"
   ]
  },
  {
   "cell_type": "markdown",
   "metadata": {},
   "source": [
    "---"
   ]
  }
 ],
 "metadata": {
  "kernelspec": {
   "display_name": "Python 3",
   "language": "python",
   "name": "python3"
  },
  "language_info": {
   "codemirror_mode": {
    "name": "ipython",
    "version": 3
   },
   "file_extension": ".py",
   "mimetype": "text/x-python",
   "name": "python",
   "nbconvert_exporter": "python",
   "pygments_lexer": "ipython3",
   "version": "3.8.3"
  }
 },
 "nbformat": 4,
 "nbformat_minor": 4
}
