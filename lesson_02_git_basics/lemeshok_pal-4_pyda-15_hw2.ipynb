{
 "cells": [
  {
   "cell_type": "markdown",
   "metadata": {},
   "source": [
    "<div style=\"text-align: center\"> <H2> Домашнее задание №2, к лекции \"Настройка среды и работа с GIT\" </H2></div>\n",
    "<div style='text-align: center'> <H4> по курсу PYDA-15 - Python для анализа данных </H4></div>\n",
    "</div>\n",
    "<p>\n",
    "<div style=\"text-align: right\"> Выполнил: студент группы PAL-4 Константин Лемешок </div>\n",
    "\n",
    "---"
   ]
  },
  {
   "cell_type": "markdown",
   "metadata": {},
   "source": [
    "#### Задание 1\n",
    "<div class=\"alert alert-block alert-success\">\n",
    "Мы должны удостовериться, что вы установили требуемое ПО перед содержательной частью курса. Необходимо прикрепить скриншот запущенного Jupyter Notebook на вашем ПК. Можно использовать сервис <a href=\"https://pastenow.ru/\">pastenow.ru</a>\n",
    "</div>\n",
    "\n",
    "---"
   ]
  },
  {
   "cell_type": "markdown",
   "metadata": {},
   "source": [
    "[Скриншот запущенного Jupyter Notebook](https://prnt.sc/uwsljz)"
   ]
  },
  {
   "cell_type": "markdown",
   "metadata": {},
   "source": [
    "---"
   ]
  },
  {
   "cell_type": "markdown",
   "metadata": {},
   "source": [
    "#### Задание 2\n",
    "<div class=\"alert alert-block alert-success\">\n",
    "    <p><b>Обязательная часть</b></p>\n",
    "Пришлите скриншоты, которые будут демонстрировать, что вы прошли первые 4 уровня из раздела \"Основы\" и первые 6 уровней из раздела \"Удаленные репозитории\" на <a href=\"https://learngitbranching.js.org/?locale=ru_RU\">интерактивном тренажере Git</a>.\n",
    "    <p><b>Дополнительная часть (необязательная)</b></p>\n",
    "Пришлите скриншоты, которые будут демонстрировать, что вы выполнили все упражнения на <a href=\"https://learngitbranching.js.org/?locale=ru_RU\">интерактивном тренажере Git</a>.\n",
    "</div>\n",
    "\n",
    "---"
   ]
  },
  {
   "cell_type": "markdown",
   "metadata": {},
   "source": [
    "Раздел \"Основы\" [пройден](https://prnt.sc/ux3tdp).\n",
    "\n",
    "Раздел \"Удаленные репозитории\" [пройден](https://prnt.sc/ux702u).\n",
    "\n",
    "Это было **очень** непросто."
   ]
  },
  {
   "cell_type": "markdown",
   "metadata": {},
   "source": [
    "---"
   ]
  },
  {
   "cell_type": "markdown",
   "metadata": {},
   "source": [
    "#### Задание 3\n",
    "<div class=\"alert alert-block alert-success\">\n",
    "Подготовьте и пришлите ссылку на репозиторий, в котором вы будете размещать домашние работы по курсу. Структура репозитория может быть любая, но самый очевидный вариант – своя отдельная папка для каждой лекции.\n",
    "Внимание! Git не работает с пустыми папками. О том, как решить эту проблему, можете почитать, например <a href=\"https://ru.stackoverflow.com/questions/623608/%d0%9a%d0%b0%d0%ba-%d0%b4%d0%be%d0%b1%d0%b0%d0%b2%d0%b8%d1%82%d1%8c-%d0%bf%d1%83%d1%81%d1%82%d1%83%d1%8e-%d0%bf%d0%b0%d0%bf%d0%ba%d1%83-%d0%b2-%d1%80%d0%b5%d0%bf%d0%be%d0%b7%d0%b8%d1%82%d0%be%d1%80%d0%b8%d0%b8-git\">здесь</a>.\n",
    "</div>\n",
    "\n",
    "---"
   ]
  },
  {
   "cell_type": "markdown",
   "metadata": {},
   "source": [
    "[Ссылка на репозиторий с домашними работами по курсу](https://github.com/klemeshok/pyda-15)"
   ]
  },
  {
   "cell_type": "markdown",
   "metadata": {},
   "source": [
    "---"
   ]
  },
  {
   "cell_type": "markdown",
   "metadata": {},
   "source": [
    "#### Задание 4 (необязательное)\n",
    "<div class=\"alert alert-block alert-success\">\n",
    "Если вы еще недостаточно уверенно чувствуете себя в работе в командной строке, то изучите <a href=\"https://techrocks.ru/2020/04/24/best-git-gui-for-mac-linux-windows/\">разнообразие доступных графических клиентов для Git</a>. Выберете и освойте любой из них и напишите об этом. \n",
    "</div>\n",
    "\n",
    "---"
   ]
  },
  {
   "cell_type": "markdown",
   "metadata": {},
   "source": [
    "В командной строке немного освоился. Многие вещи еще вызывают ступор, но уже намного лучше, чем неделю назад, когда только познакомился с Git.\n",
    "Чтобы освоиться в командной строке еще больше, использование графических клиентов в ближайшее время не планирую. Но сохранил ссылку на их перечень для последующего изучения."
   ]
  }
 ],
 "metadata": {
  "kernelspec": {
   "display_name": "Python 3",
   "language": "python",
   "name": "python3"
  },
  "language_info": {
   "codemirror_mode": {
    "name": "ipython",
    "version": 3
   },
   "file_extension": ".py",
   "mimetype": "text/x-python",
   "name": "python",
   "nbconvert_exporter": "python",
   "pygments_lexer": "ipython3",
   "version": "3.8.3"
  }
 },
 "nbformat": 4,
 "nbformat_minor": 4
}
